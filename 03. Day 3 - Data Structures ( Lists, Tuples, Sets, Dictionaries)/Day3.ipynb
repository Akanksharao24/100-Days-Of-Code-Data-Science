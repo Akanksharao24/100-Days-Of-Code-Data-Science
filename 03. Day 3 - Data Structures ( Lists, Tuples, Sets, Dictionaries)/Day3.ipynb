{
  "nbformat": 4,
  "nbformat_minor": 0,
  "metadata": {
    "colab": {
      "provenance": []
    },
    "kernelspec": {
      "name": "python3",
      "display_name": "Python 3"
    },
    "language_info": {
      "name": "python"
    }
  },
  "cells": [
    {
      "cell_type": "markdown",
      "source": [
        "# -------------- **Data Structures** --------------\n",
        "\n",
        "                             \"13 January 2024\"   - Akanksha              "
      ],
      "metadata": {
        "id": "3lGD637mzu3X"
      }
    },
    {
      "cell_type": "markdown",
      "source": [
        "## Lists\n",
        "\n",
        "### 1. Introduction to Lists:\n",
        "- A list is a versatile and mutable data structure in Python.\n",
        "- It is an ordered collection of elements, and elements can be of any data type.\n",
        "- Lists are defined by enclosing comma-separated values within square brackets `[]`.\n",
        "  ```python\n",
        "  my_list = [1, 2, 'three', 4.0, True]\n",
        "  ```\n",
        "\n"
      ],
      "metadata": {
        "id": "yq18hPSf92FY"
      }
    },
    {
      "cell_type": "code",
      "source": [
        "list = [1, 2, 'three', 4.0 , True]"
      ],
      "metadata": {
        "id": "CQH5nhus_k84"
      },
      "execution_count": 11,
      "outputs": []
    },
    {
      "cell_type": "markdown",
      "source": [
        "### 2. Indexing and Slicing:\n",
        "- Lists are indexed starting from 0 for the first element.\n",
        "- Indexing allows accessing individual elements using their position in the list.\n",
        "  ```python\n",
        "  first_element = my_list[0]\n",
        "  ```\n",
        "- Slicing allows extracting a subset of elements from the list.\n",
        "  ```python\n",
        "  subset = my_list[1:4]  # Returns elements at index 1, 2, and 3\n",
        "  ```"
      ],
      "metadata": {
        "id": "pL4znd_h_NCx"
      }
    },
    {
      "cell_type": "code",
      "source": [
        "first_element = list[0]\n",
        "first_element"
      ],
      "metadata": {
        "colab": {
          "base_uri": "https://localhost:8080/"
        },
        "id": "vUs1tvUWADCh",
        "outputId": "bee8b48e-d899-4068-b2e3-39423bfe6eef"
      },
      "execution_count": 7,
      "outputs": [
        {
          "output_type": "execute_result",
          "data": {
            "text/plain": [
              "1"
            ]
          },
          "metadata": {},
          "execution_count": 7
        }
      ]
    },
    {
      "cell_type": "code",
      "source": [
        "subset = list[1:4]\n",
        "subset"
      ],
      "metadata": {
        "colab": {
          "base_uri": "https://localhost:8080/"
        },
        "id": "W1l31caVAMv0",
        "outputId": "7d547c73-1d69-4b81-98f5-fe9f5aebbbcc"
      },
      "execution_count": 8,
      "outputs": [
        {
          "output_type": "execute_result",
          "data": {
            "text/plain": [
              "[2, 'three', 4.0]"
            ]
          },
          "metadata": {},
          "execution_count": 8
        }
      ]
    },
    {
      "cell_type": "markdown",
      "source": [
        "### 3. List Methods:\n",
        "- Lists come with a variety of built-in methods for manipulation:\n",
        "  - `append(x)`: Adds element `x` to the end of the list.\n",
        "  - `extend(iterable)`: Appends elements from an iterable to the end of the list.\n",
        "  - `insert(i, x)`: Inserts element `x` at index `i`.\n",
        "  - `remove(x)`: Removes the first occurrence of element `x`.\n",
        "  - `pop(i)`: Removes and returns the element at index `i`. If `i` is omitted, the last element is removed.\n",
        "  - `index(x)`: Returns the index of the first occurrence of element `x`.\n",
        "  - `count(x)`: Returns the number of occurrences of element `x`.\n",
        "  - `sort()`: Sorts the elements of the list in ascending order.\n",
        "  - `reverse()`: Reverses the order of the elements in the list.\n",
        "\n"
      ],
      "metadata": {
        "id": "cycDcTH9_R83"
      }
    },
    {
      "cell_type": "code",
      "source": [
        "list.append(5)\n",
        "list"
      ],
      "metadata": {
        "colab": {
          "base_uri": "https://localhost:8080/"
        },
        "id": "GiBUN7MSAlIa",
        "outputId": "a68815e1-8265-4c1a-93e7-fbdfb7b685a3"
      },
      "execution_count": 12,
      "outputs": [
        {
          "output_type": "execute_result",
          "data": {
            "text/plain": [
              "[1, 2, 'three', 4.0, True, 5]"
            ]
          },
          "metadata": {},
          "execution_count": 12
        }
      ]
    },
    {
      "cell_type": "code",
      "source": [
        "list.extend()"
      ],
      "metadata": {
        "id": "RLfiVht-A-PK"
      },
      "execution_count": null,
      "outputs": []
    },
    {
      "cell_type": "code",
      "source": [
        "list.insert(5, False)\n",
        "list"
      ],
      "metadata": {
        "colab": {
          "base_uri": "https://localhost:8080/"
        },
        "id": "baGX8l35BMq_",
        "outputId": "e496f6c7-2c09-4c3f-bf3c-8781058734ec"
      },
      "execution_count": 13,
      "outputs": [
        {
          "output_type": "execute_result",
          "data": {
            "text/plain": [
              "[1, 2, 'three', 4.0, True, False, 5]"
            ]
          },
          "metadata": {},
          "execution_count": 13
        }
      ]
    },
    {
      "cell_type": "code",
      "source": [
        "list.remove(5)\n",
        "list"
      ],
      "metadata": {
        "colab": {
          "base_uri": "https://localhost:8080/"
        },
        "id": "UTIHg-zKBtxL",
        "outputId": "6772092e-7d7b-49a9-c2f3-cd94dc5d09c2"
      },
      "execution_count": 14,
      "outputs": [
        {
          "output_type": "execute_result",
          "data": {
            "text/plain": [
              "[1, 2, 'three', 4.0, True, False]"
            ]
          },
          "metadata": {},
          "execution_count": 14
        }
      ]
    },
    {
      "cell_type": "code",
      "source": [
        "list.pop()\n",
        "list #last elements is popped"
      ],
      "metadata": {
        "colab": {
          "base_uri": "https://localhost:8080/"
        },
        "id": "VQtQvT2CB-ch",
        "outputId": "3ecf4205-db13-4a6c-aa46-af066f9b3d7e"
      },
      "execution_count": 15,
      "outputs": [
        {
          "output_type": "execute_result",
          "data": {
            "text/plain": [
              "[1, 2, 'three', 4.0, True]"
            ]
          },
          "metadata": {},
          "execution_count": 15
        }
      ]
    },
    {
      "cell_type": "code",
      "source": [
        "list.index(2)"
      ],
      "metadata": {
        "colab": {
          "base_uri": "https://localhost:8080/"
        },
        "id": "48f5q6mpCJhH",
        "outputId": "391bf40d-0d01-4415-f2e1-7c007bcb3fb8"
      },
      "execution_count": 16,
      "outputs": [
        {
          "output_type": "execute_result",
          "data": {
            "text/plain": [
              "1"
            ]
          },
          "metadata": {},
          "execution_count": 16
        }
      ]
    },
    {
      "cell_type": "code",
      "source": [
        "list.count(2)"
      ],
      "metadata": {
        "colab": {
          "base_uri": "https://localhost:8080/"
        },
        "id": "VHHMXcNeCVeR",
        "outputId": "3199d09b-29b0-4f54-a759-82837ab566e2"
      },
      "execution_count": 17,
      "outputs": [
        {
          "output_type": "execute_result",
          "data": {
            "text/plain": [
              "1"
            ]
          },
          "metadata": {},
          "execution_count": 17
        }
      ]
    },
    {
      "cell_type": "code",
      "source": [
        "list.sort() # the list must be homogenous to be sorted"
      ],
      "metadata": {
        "colab": {
          "base_uri": "https://localhost:8080/",
          "height": 175
        },
        "id": "nU2aPduuCdp8",
        "outputId": "6c246a69-6c6e-4876-d66a-464347969b1f"
      },
      "execution_count": 18,
      "outputs": [
        {
          "output_type": "error",
          "ename": "TypeError",
          "evalue": "'<' not supported between instances of 'str' and 'int'",
          "traceback": [
            "\u001b[0;31m---------------------------------------------------------------------------\u001b[0m",
            "\u001b[0;31mTypeError\u001b[0m                                 Traceback (most recent call last)",
            "\u001b[0;32m<ipython-input-18-3c2f2ea7cf41>\u001b[0m in \u001b[0;36m<cell line: 1>\u001b[0;34m()\u001b[0m\n\u001b[0;32m----> 1\u001b[0;31m \u001b[0mlist\u001b[0m\u001b[0;34m.\u001b[0m\u001b[0msort\u001b[0m\u001b[0;34m(\u001b[0m\u001b[0;34m)\u001b[0m\u001b[0;34m\u001b[0m\u001b[0;34m\u001b[0m\u001b[0m\n\u001b[0m",
            "\u001b[0;31mTypeError\u001b[0m: '<' not supported between instances of 'str' and 'int'"
          ]
        }
      ]
    },
    {
      "cell_type": "code",
      "source": [
        "new_list = [ 4, 7, 8, 3, 2, 1]\n",
        "new_list.sort()\n",
        "new_list"
      ],
      "metadata": {
        "colab": {
          "base_uri": "https://localhost:8080/"
        },
        "id": "HK1QB_WYDWgG",
        "outputId": "ad870df9-4591-41ee-d166-5e243351aa31"
      },
      "execution_count": 23,
      "outputs": [
        {
          "output_type": "execute_result",
          "data": {
            "text/plain": [
              "[1, 2, 3, 4, 7, 8]"
            ]
          },
          "metadata": {},
          "execution_count": 23
        }
      ]
    },
    {
      "cell_type": "code",
      "source": [
        "new_list.reverse()\n",
        "new_list"
      ],
      "metadata": {
        "colab": {
          "base_uri": "https://localhost:8080/"
        },
        "id": "_FcEo-VfDwZV",
        "outputId": "1baed74c-3de5-4d87-994f-4f8aead7471b"
      },
      "execution_count": 24,
      "outputs": [
        {
          "output_type": "execute_result",
          "data": {
            "text/plain": [
              "[8, 7, 4, 3, 2, 1]"
            ]
          },
          "metadata": {},
          "execution_count": 24
        }
      ]
    },
    {
      "cell_type": "markdown",
      "source": [
        "### 4. List Comprehension:\n",
        "- List comprehension provides a concise way to create lists.\n",
        "- It consists of an expression followed by a `for` clause and, optionally, an `if` clause.\n",
        "  ```python\n",
        "  squares = [x**2 for x in range(5)]\n",
        "  # Result: [0, 1, 4, 9, 16]\n",
        "  ```\n",
        "\n",
        "\n"
      ],
      "metadata": {
        "id": "8FyMGDzL_X1P"
      }
    },
    {
      "cell_type": "code",
      "source": [
        "x = [1, 2, 3, 4, 5, 6]\n",
        "squares = [num**2 for num in x]\n",
        "squares"
      ],
      "metadata": {
        "colab": {
          "base_uri": "https://localhost:8080/"
        },
        "id": "nWgN95UaD_Rg",
        "outputId": "3746ddb3-890e-4fce-9264-506099b81f35"
      },
      "execution_count": 35,
      "outputs": [
        {
          "output_type": "execute_result",
          "data": {
            "text/plain": [
              "[1, 4, 9, 16, 25, 36]"
            ]
          },
          "metadata": {},
          "execution_count": 35
        }
      ]
    },
    {
      "cell_type": "code",
      "source": [
        "increment = [num+1 for num in x]\n",
        "increment"
      ],
      "metadata": {
        "colab": {
          "base_uri": "https://localhost:8080/"
        },
        "id": "yVICKa-gESym",
        "outputId": "805ec7cb-b1bb-421c-8162-642b50fa1706"
      },
      "execution_count": 37,
      "outputs": [
        {
          "output_type": "execute_result",
          "data": {
            "text/plain": [
              "[2, 3, 4, 5, 6, 7]"
            ]
          },
          "metadata": {},
          "execution_count": 37
        }
      ]
    },
    {
      "cell_type": "markdown",
      "source": [
        "### 5. Nested Lists:\n",
        "- A list can contain other lists, creating a nested structure.\n",
        "- This allows for the representation of matrices or more complex data structures.\n",
        "  ```python\n",
        "  nested_list = [[1, 2, 3], [4, 5, 6], [7, 8, 9]]\n",
        "  ```"
      ],
      "metadata": {
        "id": "rc_ZF4ip_Z4I"
      }
    },
    {
      "cell_type": "code",
      "source": [
        "nested_list = [[1, 2, 3], [4, 5, 6], [7, 8, 9]]\n",
        "print(nested_list[1])\n",
        "print(nested_list[1][0])"
      ],
      "metadata": {
        "colab": {
          "base_uri": "https://localhost:8080/"
        },
        "id": "QWhxWHEQFRhc",
        "outputId": "0e33031e-4875-4fb8-f87d-4f8a6732b503"
      },
      "execution_count": 42,
      "outputs": [
        {
          "output_type": "stream",
          "name": "stdout",
          "text": [
            "[4, 5, 6]\n",
            "4\n"
          ]
        }
      ]
    },
    {
      "cell_type": "markdown",
      "source": [
        "## Tuples\n",
        "\n",
        "### 1. Introduction to Tuples:\n",
        "- A tuple is a collection similar to a list but is immutable.\n",
        "- It is ordered and allows elements of different data types.\n",
        "- Tuples are defined by enclosing comma-separated values within parentheses `()`.\n",
        "  ```python\n",
        "  my_tuple = (1, 'two', 3.0, True)\n",
        "  ```\n",
        "\n"
      ],
      "metadata": {
        "id": "D3glgrQSFmjc"
      }
    },
    {
      "cell_type": "code",
      "source": [
        "my_tuple = (1, 'two', 3.0, True)"
      ],
      "metadata": {
        "id": "rqQN5YpiG_AB"
      },
      "execution_count": 55,
      "outputs": []
    },
    {
      "cell_type": "markdown",
      "source": [
        "### 2. Immutability:\n",
        "- One of the main characteristics of tuples is that they are immutable, meaning once a tuple is created, its elements cannot be modified or reassigned.\n",
        "- While the tuple itself cannot be altered, it can contain mutable objects (e.g., lists) whose elements can be modified.\n",
        "  ```python\n",
        "  my_tuple[0] = 5  # Raises an error, as tuples are immutable\n",
        "  ```\n",
        "\n"
      ],
      "metadata": {
        "id": "xn_729E1GD0U"
      }
    },
    {
      "cell_type": "code",
      "source": [
        "my_tuple[0]= 5"
      ],
      "metadata": {
        "colab": {
          "base_uri": "https://localhost:8080/",
          "height": 175
        },
        "id": "VodUH7QrHDvu",
        "outputId": "5b5dfd47-73da-430f-e72f-e07670f42723"
      },
      "execution_count": 44,
      "outputs": [
        {
          "output_type": "error",
          "ename": "TypeError",
          "evalue": "'tuple' object does not support item assignment",
          "traceback": [
            "\u001b[0;31m---------------------------------------------------------------------------\u001b[0m",
            "\u001b[0;31mTypeError\u001b[0m                                 Traceback (most recent call last)",
            "\u001b[0;32m<ipython-input-44-39c20d40c572>\u001b[0m in \u001b[0;36m<cell line: 1>\u001b[0;34m()\u001b[0m\n\u001b[0;32m----> 1\u001b[0;31m \u001b[0mmy_tuple\u001b[0m\u001b[0;34m[\u001b[0m\u001b[0;36m0\u001b[0m\u001b[0;34m]\u001b[0m\u001b[0;34m=\u001b[0m \u001b[0;36m5\u001b[0m\u001b[0;34m\u001b[0m\u001b[0;34m\u001b[0m\u001b[0m\n\u001b[0m",
            "\u001b[0;31mTypeError\u001b[0m: 'tuple' object does not support item assignment"
          ]
        }
      ]
    },
    {
      "cell_type": "markdown",
      "source": [
        "### 3. Tuple Unpacking:\n",
        "- Tuple unpacking allows assigning the elements of a tuple to individual variables.\n",
        "  ```python\n",
        "  coordinates = (4, 5)\n",
        "  x, y = coordinates\n",
        "  # Now, x is 4 and y is 5\n",
        "  ```\n",
        "\n"
      ],
      "metadata": {
        "id": "8r06oP4dGIcC"
      }
    },
    {
      "cell_type": "code",
      "source": [
        "coordinates = (4, 5)\n",
        "x, y = coordinates\n",
        "print(x)\n",
        "print(y)"
      ],
      "metadata": {
        "colab": {
          "base_uri": "https://localhost:8080/"
        },
        "id": "lI2LEHYvHMf1",
        "outputId": "1a6e508d-c576-4aba-eb77-2a25639096d2"
      },
      "execution_count": 46,
      "outputs": [
        {
          "output_type": "stream",
          "name": "stdout",
          "text": [
            "4\n",
            "5\n"
          ]
        }
      ]
    },
    {
      "cell_type": "markdown",
      "source": [
        "### 4. Tuple Methods:\n",
        "- Tuples have built-in methods for specific operations:\n",
        "  - `count(x)`: Returns the number of occurrences of element `x` in the tuple.\n",
        "  - `index(x)`: Returns the index of the first occurrence of element `x` in the tuple.\n",
        "  ```python\n",
        "  my_tuple = (1, 2, 3, 2, 4, 2)\n",
        "  count_of_2 = my_tuple.count(2)\n",
        "  # Result: 3 (because 2 appears three times)\n",
        "  index_of_3 = my_tuple.index(3)\n",
        "  # Result: 2 (because 3 is at index 2)\n",
        "  ```\n"
      ],
      "metadata": {
        "id": "C4lCop3gGLAt"
      }
    },
    {
      "cell_type": "markdown",
      "source": [
        "## Sets\n",
        "\n",
        "### 1. Introduction to Sets:\n",
        "- A set is an unordered collection of unique elements.\n",
        "- Sets do not allow duplicate values, and they are defined by enclosing comma-separated values within curly braces `{}`.\n",
        "  ```python\n",
        "  my_set = {1, 2, 3, 3, 4, 5}\n",
        "  # Result: {1, 2, 3, 4, 5} (duplicates are automatically removed)\n",
        "  ```\n",
        "\n"
      ],
      "metadata": {
        "id": "3hC68dC1JSGZ"
      }
    },
    {
      "cell_type": "code",
      "source": [
        "my_set = {1, 2, 3, 3, 4, 5}\n",
        "my_set"
      ],
      "metadata": {
        "colab": {
          "base_uri": "https://localhost:8080/"
        },
        "id": "oupLKqqoJ9My",
        "outputId": "5ebf8bc8-02fa-4ceb-c69f-47da7ce30109"
      },
      "execution_count": 57,
      "outputs": [
        {
          "output_type": "execute_result",
          "data": {
            "text/plain": [
              "{1, 2, 3, 4, 5}"
            ]
          },
          "metadata": {},
          "execution_count": 57
        }
      ]
    },
    {
      "cell_type": "markdown",
      "source": [
        "### 2. Set Operations:\n",
        "- Sets support various operations common in mathematical set theory:\n",
        "  - **Union (`|`):** Combines elements from two sets, excluding duplicates.\n",
        "  - **Intersection (`&`):** Returns elements common to both sets.\n",
        "  - **Difference (`-`):** Returns elements present in the first set but not in the second.\n",
        "  - **Symmetric Difference (`^`):** Returns elements that are in either of the sets but not in both.\n",
        "  \n",
        "  ```python\n",
        "  set1 = {1, 2, 3}\n",
        "  set2 = {3, 4, 5}\n",
        "  union_set = set1 | set2\n",
        "  # Result: {1, 2, 3, 4, 5}\n",
        "  intersection_set = set1 & set2\n",
        "  # Result: {3}\n",
        "  difference_set = set1 - set2\n",
        "  # Result: {1, 2}\n",
        "  symmetric_difference_set = set1 ^ set2\n",
        "  # Result: {1, 2, 4, 5}\n",
        "  ```\n",
        "\n"
      ],
      "metadata": {
        "id": "l67bh-Q8Jj17"
      }
    },
    {
      "cell_type": "code",
      "source": [
        "set1 = {1, 2, 3}\n",
        "set2 = {3, 4, 5}\n",
        "\n",
        "union_set = set1 | set2\n",
        "print('Union Set:',union_set)\n",
        "\n",
        "intersection_set = set1 & set2\n",
        "print('Intersection Set:',intersection_set)\n",
        "\n",
        "difference_set = set1 - set2\n",
        "print('Difference Set:',difference_set)\n",
        "\n",
        "symmetric_difference_set = set1 ^ set2\n",
        "print('Symmetric Difference Set:',symmetric_difference_set)"
      ],
      "metadata": {
        "colab": {
          "base_uri": "https://localhost:8080/"
        },
        "id": "VksAxJkGKETy",
        "outputId": "f5fe73ae-c177-469b-f60e-b965e773b6ca"
      },
      "execution_count": 61,
      "outputs": [
        {
          "output_type": "stream",
          "name": "stdout",
          "text": [
            "Union Set: {1, 2, 3, 4, 5}\n",
            "Intersection Set: {3}\n",
            "Difference Set: {1, 2}\n",
            "Symmetric Difference Set: {1, 2, 4, 5}\n"
          ]
        }
      ]
    },
    {
      "cell_type": "markdown",
      "source": [
        "### 3. Set Methods:\n",
        "- Sets come with several built-in methods for manipulation:\n",
        "  - `add(x)`: Adds element `x` to the set.\n",
        "  - `remove(x)`: Removes element `x` from the set. Raises an error if `x` is not present.\n",
        "  - `discard(x)`: Removes element `x` from the set if it is present. Does not raise an error if `x` is not found.\n",
        "  - `pop()`: Removes and returns an arbitrary element from the set.\n",
        "  - `clear()`: Removes all elements from the set.\n",
        "  \n",
        "  ```python\n",
        "  my_set = {1, 2, 3}\n",
        "  my_set.add(4)\n",
        "  # Result: {1, 2, 3, 4}\n",
        "  my_set.remove(2)\n",
        "  # Result: {1, 3, 4}\n",
        "  my_set.discard(5)\n",
        "  # No error, as 5 is not in the set\n",
        "  popped_element = my_set.pop()\n",
        "  # Result: popped_element contains the removed element\n",
        "  ```\n",
        "\n"
      ],
      "metadata": {
        "id": "7qe0nCK2JwX_"
      }
    },
    {
      "cell_type": "code",
      "source": [
        "my_set = {1, 2, 3}\n",
        "\n",
        "my_set.add(4)\n",
        "print('Add method',my_set)\n",
        "\n",
        "my_set.remove(2)\n",
        "print('Remove method',my_set)\n",
        "\n",
        "my_set.discard(5)\n",
        "print('Discard Method',my_set)\n",
        "\n",
        "popped_element = my_set.pop()\n",
        "print('Pop Method',popped_element )"
      ],
      "metadata": {
        "colab": {
          "base_uri": "https://localhost:8080/"
        },
        "id": "2k1gwYJ4LN-N",
        "outputId": "a0865b13-f806-4fc6-e496-1a5ce2ee82cb"
      },
      "execution_count": 66,
      "outputs": [
        {
          "output_type": "stream",
          "name": "stdout",
          "text": [
            "Add method {1, 2, 3, 4}\n",
            "Remove method {1, 3, 4}\n",
            "Discard Method {1, 3, 4}\n",
            "Pop Method 1\n"
          ]
        }
      ]
    },
    {
      "cell_type": "markdown",
      "source": [
        "### 4. Set Comprehension:\n",
        "- Similar to list comprehension, set comprehension allows you to create sets in a concise manner.\n",
        "  ```python\n",
        "  squares_set = {x**2 for x in range(5)}\n",
        "  # Result: {0, 1, 4, 9, 16}\n",
        "  ```"
      ],
      "metadata": {
        "id": "8_7ZSgVoJ1SE"
      }
    },
    {
      "cell_type": "code",
      "source": [
        "squares_set = {x**2 for x in range(5)}\n",
        "squares_set"
      ],
      "metadata": {
        "colab": {
          "base_uri": "https://localhost:8080/"
        },
        "id": "WmPkaO1eMsat",
        "outputId": "0e64ee1d-dd22-4d5e-aea7-7dbd9171515c"
      },
      "execution_count": 68,
      "outputs": [
        {
          "output_type": "execute_result",
          "data": {
            "text/plain": [
              "{0, 1, 4, 9, 16}"
            ]
          },
          "metadata": {},
          "execution_count": 68
        }
      ]
    },
    {
      "cell_type": "markdown",
      "source": [
        "## Dictionaries\n",
        "\n",
        "### 1. Introduction to Dictionaries:\n",
        "- A dictionary is an unordered collection of key-value pairs.\n",
        "- Each key-value pair in a dictionary maps the key to its corresponding value.\n",
        "- Dictionaries are defined by enclosing key-value pairs within curly braces `{}`.\n",
        "  ```python\n",
        "  my_dict = {'name': 'John', 'age': 25, 'city': 'New York'}\n",
        "  ```"
      ],
      "metadata": {
        "id": "s5q3jPrCQgTh"
      }
    },
    {
      "cell_type": "code",
      "source": [
        "my_dict = {'name': 'John', 'age': 25, 'city': 'New York'}"
      ],
      "metadata": {
        "id": "EVDGxsPtQ_31"
      },
      "execution_count": 69,
      "outputs": []
    },
    {
      "cell_type": "markdown",
      "source": [
        "### 2. Key-Value Pairs:\n",
        "- Keys in a dictionary must be unique and immutable (strings, numbers, or tuples usually serve as keys).\n",
        "- Values can be of any data type and can be duplicated.\n",
        "- Accessing values is done using square brackets and the key.\n",
        "  ```python\n",
        "  name_value = my_dict['name']\n",
        "  # Result: 'John'\n",
        "  ```\n",
        "\n"
      ],
      "metadata": {
        "id": "cUDH3qxwQvFE"
      }
    },
    {
      "cell_type": "code",
      "source": [
        "my_dict['name']"
      ],
      "metadata": {
        "colab": {
          "base_uri": "https://localhost:8080/",
          "height": 36
        },
        "id": "F8Z6dzMORDL9",
        "outputId": "2950cd16-fe28-4e5c-f626-3f4fa16b4b7b"
      },
      "execution_count": 70,
      "outputs": [
        {
          "output_type": "execute_result",
          "data": {
            "text/plain": [
              "'John'"
            ],
            "application/vnd.google.colaboratory.intrinsic+json": {
              "type": "string"
            }
          },
          "metadata": {},
          "execution_count": 70
        }
      ]
    },
    {
      "cell_type": "markdown",
      "source": [
        "### 3. Dictionary Methods:\n",
        "- Dictionaries come with various built-in methods for manipulation:\n",
        "  - `keys()`: Returns a view of all the keys in the dictionary.\n",
        "  - `values()`: Returns a view of all the values in the dictionary.\n",
        "  - `items()`: Returns a view of all key-value pairs in the dictionary as tuples.\n",
        "  - `get(key, default)`: Returns the value associated with the key or a default value if the key is not present.\n",
        "  - `pop(key)`: Removes and returns the value associated with the key.\n",
        "  - `popitem()`: Removes and returns the last key-value pair inserted into the dictionary.\n",
        "  - `clear()`: Removes all key-value pairs from the dictionary.\n",
        "  ```python\n",
        "  keys_list = my_dict.keys()\n",
        "  # Result: dict_keys(['name', 'age', 'city'])\n",
        "  values_list = my_dict.values()\n",
        "  # Result: dict_values(['John', 25, 'New York'])\n",
        "  items_list = my_dict.items()\n",
        "  # Result: dict_items([('name', 'John'), ('age', 25), ('city', 'New York')])\n",
        "  age_value = my_dict.get('age', 0)\n",
        "  # Result: 25\n",
        "  removed_value = my_dict.pop('city')\n",
        "  # Result: 'New York', and my_dict is now {'name': 'John', 'age': 25}\n",
        "  ```"
      ],
      "metadata": {
        "id": "xL6YsyUYQy39"
      }
    },
    {
      "cell_type": "code",
      "source": [
        "keys_list = my_dict.keys()\n",
        "\n",
        "values_list = my_dict.values()\n",
        "print('Values Lists',values_list)\n",
        "\n",
        "items_list = my_dict.items()\n",
        "print('Items Lists',items_list)\n",
        "\n",
        "age_value = my_dict.get('age', 0)\n",
        "print('Age Value',age_value)\n",
        "\n",
        "removed_value = my_dict.pop('city')\n",
        "print('Removed Value',removed_value)"
      ],
      "metadata": {
        "colab": {
          "base_uri": "https://localhost:8080/"
        },
        "id": "FOFRF-jLRQzc",
        "outputId": "1b8fab63-9474-4f3c-f8b2-da9e510146cd"
      },
      "execution_count": 71,
      "outputs": [
        {
          "output_type": "stream",
          "name": "stdout",
          "text": [
            "Values Lists dict_values(['John', 25, 'New York'])\n",
            "Items Lists dict_items([('name', 'John'), ('age', 25), ('city', 'New York')])\n",
            "Age Value 25\n",
            "Removed Value New York\n"
          ]
        }
      ]
    },
    {
      "cell_type": "markdown",
      "source": [
        "### 4. Dictionary Comprehension:\n",
        "- Similar to list and set comprehensions, dictionary comprehension allows you to create dictionaries in a concise manner.\n",
        "  ```python\n",
        "  squares_dict = {x: x**2 for x in range(5)}\n",
        "  # Result: {0: 0, 1: 1, 2: 4, 3: 9, 4: 16}\n",
        "  ```\n"
      ],
      "metadata": {
        "id": "rh3dHmcGQ8K6"
      }
    },
    {
      "cell_type": "code",
      "source": [
        "squares_dict = {x: x**2 for x in range(5)}"
      ],
      "metadata": {
        "id": "xAQtFIpnSTqx"
      },
      "execution_count": 72,
      "outputs": []
    }
  ]
}