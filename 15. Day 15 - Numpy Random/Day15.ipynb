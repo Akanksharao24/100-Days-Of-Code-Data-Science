{
  "nbformat": 4,
  "nbformat_minor": 0,
  "metadata": {
    "colab": {
      "provenance": []
    },
    "kernelspec": {
      "name": "python3",
      "display_name": "Python 3"
    },
    "language_info": {
      "name": "python"
    }
  },
  "cells": [
    {
      "cell_type": "markdown",
      "source": [
        "# -------------- **Numpy Random** --------------\n",
        "\n",
        "                             \"27 January 2024\"   - Akanksha              "
      ],
      "metadata": {
        "id": "IFxrSAvN0FXn"
      }
    },
    {
      "cell_type": "markdown",
      "source": [
        "NumPy is a powerful numerical computing library in Python, and it provides a module called `numpy.random` for generating random numbers. The `numpy.random` module is widely used in various scientific and statistical applications, as well as in simulations and machine learning.\n",
        "\n",
        "Here's a detailed overview of the key functions and features within the `numpy.random` module:\n",
        "\n",
        "## 1. **Simple Random Data Generation:**\n",
        "\n",
        "### 1.1 `numpy.random.rand`\n",
        "- Generates random values from a uniform distribution over `[0, 1)`.\n",
        "\n",
        "\n"
      ],
      "metadata": {
        "id": "7IV1-XuJc0kB"
      }
    },
    {
      "cell_type": "code",
      "source": [
        "import numpy as np\n",
        "random_values = np.random.rand(3, 3)\n",
        "print(random_values)"
      ],
      "metadata": {
        "colab": {
          "base_uri": "https://localhost:8080/"
        },
        "id": "7OY7uoWCdlav",
        "outputId": "bf437d30-670c-4b62-d0a7-51a0ea7e7387"
      },
      "execution_count": 2,
      "outputs": [
        {
          "output_type": "stream",
          "name": "stdout",
          "text": [
            "[[0.30278154 0.24244149 0.87154427]\n",
            " [0.42187336 0.19408982 0.47314756]\n",
            " [0.31894145 0.84264367 0.66112366]]\n"
          ]
        }
      ]
    },
    {
      "cell_type": "markdown",
      "source": [
        "### 1.2 `numpy.random.randn`\n",
        "- Returns samples from the standard normal distribution (mean=0, variance=1).\n",
        "\n",
        "\n"
      ],
      "metadata": {
        "id": "tvDIadx1c-uD"
      }
    },
    {
      "cell_type": "code",
      "source": [
        "import numpy as np\n",
        "random_samples = np.random.randn(3, 3)\n",
        "print(random_samples)"
      ],
      "metadata": {
        "colab": {
          "base_uri": "https://localhost:8080/"
        },
        "id": "T7JMJhWZdwxg",
        "outputId": "d0a04936-1be0-427f-d257-647a49ead0fe"
      },
      "execution_count": 3,
      "outputs": [
        {
          "output_type": "stream",
          "name": "stdout",
          "text": [
            "[[-0.06023423 -0.24190116  0.64424639]\n",
            " [-0.46512494  0.66736547  2.08895943]\n",
            " [ 0.99285796 -1.10062584 -1.08541745]]\n"
          ]
        }
      ]
    },
    {
      "cell_type": "markdown",
      "source": [
        "### 1.3 `numpy.random.randint`\n",
        "- Generates random integers from a specified low (inclusive) to high (exclusive) range.\n",
        "\n",
        "\n"
      ],
      "metadata": {
        "id": "Wy5eE9WcdCS5"
      }
    },
    {
      "cell_type": "code",
      "source": [
        "import numpy as np\n",
        "random_integers = np.random.randint(1, 10, size=(3, 3))\n",
        "print(random_integers)"
      ],
      "metadata": {
        "colab": {
          "base_uri": "https://localhost:8080/"
        },
        "id": "nJFpZ-Rwd6_N",
        "outputId": "8565fe86-c1f9-4eef-a898-04e28f99c08d"
      },
      "execution_count": 4,
      "outputs": [
        {
          "output_type": "stream",
          "name": "stdout",
          "text": [
            "[[1 2 4]\n",
            " [3 6 4]\n",
            " [1 8 8]]\n"
          ]
        }
      ]
    },
    {
      "cell_type": "markdown",
      "source": [
        "## 2. **Permutations:**\n",
        "\n",
        "### 2.1 `numpy.random.shuffle`\n",
        "- Shuffles the elements of an array in-place.\n",
        "\n"
      ],
      "metadata": {
        "id": "uX6Sc_70dFmN"
      }
    },
    {
      "cell_type": "code",
      "source": [
        "import numpy as np\n",
        "arr = np.array([1, 2, 3, 4, 5])\n",
        "np.random.shuffle(arr)\n",
        "print(arr)"
      ],
      "metadata": {
        "colab": {
          "base_uri": "https://localhost:8080/"
        },
        "id": "3AUG2YW9eLJo",
        "outputId": "dbc80b11-49e9-4dff-970e-57f1264460f0"
      },
      "execution_count": 6,
      "outputs": [
        {
          "output_type": "stream",
          "name": "stdout",
          "text": [
            "[3 4 5 2 1]\n"
          ]
        }
      ]
    },
    {
      "cell_type": "markdown",
      "source": [
        "### 2.2 `numpy.random.permutation`\n",
        "- Randomly permutes a sequence or returns a permuted range.\n",
        "\n",
        "\n"
      ],
      "metadata": {
        "id": "tU3ES6HJdI23"
      }
    },
    {
      "cell_type": "code",
      "source": [
        "import numpy as np\n",
        "arr = np.random.permutation(10)\n",
        "print(arr)"
      ],
      "metadata": {
        "colab": {
          "base_uri": "https://localhost:8080/"
        },
        "id": "HeleKR5Zeq2E",
        "outputId": "99f69109-3034-4e99-c888-101b0bcff7a9"
      },
      "execution_count": 8,
      "outputs": [
        {
          "output_type": "stream",
          "name": "stdout",
          "text": [
            "[9 7 2 5 0 1 8 6 3 4]\n"
          ]
        }
      ]
    },
    {
      "cell_type": "markdown",
      "source": [
        "## 3. **Distributions:**\n",
        "\n",
        "### 3.1 `numpy.random.normal`\n",
        "- Generates random samples from a normal (Gaussian) distribution.\n",
        "\n",
        "\n"
      ],
      "metadata": {
        "id": "RNkhDX6JdMMe"
      }
    },
    {
      "cell_type": "code",
      "source": [
        "import numpy as np\n",
        "normal_samples = np.random.normal(loc=0, scale=1, size=(3, 3))\n",
        "print(normal_samples)"
      ],
      "metadata": {
        "colab": {
          "base_uri": "https://localhost:8080/"
        },
        "id": "gLjpAjWNfD3Z",
        "outputId": "4af5b582-a81c-4c27-ce40-0919f4cbd944"
      },
      "execution_count": 9,
      "outputs": [
        {
          "output_type": "stream",
          "name": "stdout",
          "text": [
            "[[ 1.30696015  0.21362734 -1.35965082]\n",
            " [-1.14044621  0.38934098  1.33448286]\n",
            " [ 0.38757241 -0.25103805  0.98203332]]\n"
          ]
        }
      ]
    },
    {
      "cell_type": "markdown",
      "source": [
        "### 3.2 `numpy.random.uniform`\n",
        "- Draws samples from a uniform distribution.\n",
        "\n",
        "\n"
      ],
      "metadata": {
        "id": "JVzTlcl4dP9v"
      }
    },
    {
      "cell_type": "code",
      "source": [
        "import numpy as np\n",
        "uniform_samples = np.random.uniform(low=0, high=1, size=(3, 3))\n",
        "print(uniform_samples)"
      ],
      "metadata": {
        "colab": {
          "base_uri": "https://localhost:8080/"
        },
        "id": "MFVr54SFfQIc",
        "outputId": "37f68b98-1202-4d29-9f50-799adca3a126"
      },
      "execution_count": 10,
      "outputs": [
        {
          "output_type": "stream",
          "name": "stdout",
          "text": [
            "[[0.50099568 0.21748744 0.27874655]\n",
            " [0.73438748 0.97482337 0.14514303]\n",
            " [0.06755578 0.97056914 0.53425842]]\n"
          ]
        }
      ]
    },
    {
      "cell_type": "markdown",
      "source": [
        "### 3.3 `numpy.random.exponential`\n",
        "- Generates samples from an exponential distribution.\n",
        "\n",
        "\n"
      ],
      "metadata": {
        "id": "lYhKYGRodTUO"
      }
    },
    {
      "cell_type": "code",
      "source": [
        "import numpy as np\n",
        "exponential_samples = np.random.exponential(scale=1, size=(3, 3))\n",
        "print(exponential_samples)"
      ],
      "metadata": {
        "colab": {
          "base_uri": "https://localhost:8080/"
        },
        "id": "jSizAIUHfb-F",
        "outputId": "badcfd50-f702-48cf-99ce-2aca459304a9"
      },
      "execution_count": 11,
      "outputs": [
        {
          "output_type": "stream",
          "name": "stdout",
          "text": [
            "[[0.27369379 0.75295203 1.23128179]\n",
            " [2.71149417 1.48109833 0.57581196]\n",
            " [0.0062058  1.93640866 0.10289211]]\n"
          ]
        }
      ]
    },
    {
      "cell_type": "markdown",
      "source": [
        "## 4. **Random Generator:**\n",
        "\n",
        "### 4.1 `numpy.random.RandomState`\n",
        "- Creates a random number generator with a specified seed.\n",
        "\n",
        "\n",
        "\n"
      ],
      "metadata": {
        "id": "bC9f5H35dWSz"
      }
    },
    {
      "cell_type": "code",
      "source": [
        "import numpy as np\n",
        "rng = np.random.RandomState(seed=42)\n",
        "random_values = rng.rand(3, 3)\n",
        "print(random_values)"
      ],
      "metadata": {
        "colab": {
          "base_uri": "https://localhost:8080/"
        },
        "id": "LHKrLqxPfiM3",
        "outputId": "8b9c5f56-e818-4ce6-c2f1-d6252ee1a3b3"
      },
      "execution_count": 13,
      "outputs": [
        {
          "output_type": "stream",
          "name": "stdout",
          "text": [
            "[[0.37454012 0.95071431 0.73199394]\n",
            " [0.59865848 0.15601864 0.15599452]\n",
            " [0.05808361 0.86617615 0.60111501]]\n"
          ]
        }
      ]
    },
    {
      "cell_type": "markdown",
      "source": [
        "## 5. **Seed Control:**\n",
        "\n",
        "### 5.1 `numpy.random.seed`\n",
        "- Seed the generator to produce reproducible results.\n",
        "\n",
        "\n"
      ],
      "metadata": {
        "id": "_D0ODMAvdZNU"
      }
    },
    {
      "cell_type": "code",
      "source": [
        "import numpy as np\n",
        "np.random.seed(42)\n",
        "random_values = np.random.rand(3, 3)\n",
        "print(random_values)"
      ],
      "metadata": {
        "colab": {
          "base_uri": "https://localhost:8080/"
        },
        "id": "Yz5inJKefpQC",
        "outputId": "53867113-55e8-4d86-f8c6-604d49962e43"
      },
      "execution_count": 14,
      "outputs": [
        {
          "output_type": "stream",
          "name": "stdout",
          "text": [
            "[[0.37454012 0.95071431 0.73199394]\n",
            " [0.59865848 0.15601864 0.15599452]\n",
            " [0.05808361 0.86617615 0.60111501]]\n"
          ]
        }
      ]
    },
    {
      "cell_type": "markdown",
      "source": [
        "## 6. **Random Sampling:**\n",
        "\n",
        "### 6.1 `numpy.random.choice`\n",
        "- Generates a random sample from a given 1-D array or sequence.\n",
        "\n",
        "\n"
      ],
      "metadata": {
        "id": "CfxFY9lXdcSf"
      }
    },
    {
      "cell_type": "code",
      "source": [
        "import numpy as np\n",
        "arr = np.array([1, 2, 3, 4, 5])\n",
        "random_sample = np.random.choice(arr, size=3, replace=False)\n",
        "print(random_sample)"
      ],
      "metadata": {
        "colab": {
          "base_uri": "https://localhost:8080/"
        },
        "id": "XOvwZdNRfxt5",
        "outputId": "7adcc899-a1d5-4cf9-ea55-74257678bab3"
      },
      "execution_count": 15,
      "outputs": [
        {
          "output_type": "stream",
          "name": "stdout",
          "text": [
            "[5 4 1]\n"
          ]
        }
      ]
    }
  ]
}