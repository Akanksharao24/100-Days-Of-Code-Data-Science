{
  "nbformat": 4,
  "nbformat_minor": 0,
  "metadata": {
    "colab": {
      "provenance": []
    },
    "kernelspec": {
      "name": "python3",
      "display_name": "Python 3"
    },
    "language_info": {
      "name": "python"
    }
  },
  "cells": [
    {
      "cell_type": "markdown",
      "source": [
        "# -------------- **Revision Of Matplotlib ( 19 - 22 )** --------------\n",
        "\n",
        "                             \"13 February 2024\"   - Akanksha              "
      ],
      "metadata": {
        "id": "IFxrSAvN0FXn"
      }
    }
  ]
}