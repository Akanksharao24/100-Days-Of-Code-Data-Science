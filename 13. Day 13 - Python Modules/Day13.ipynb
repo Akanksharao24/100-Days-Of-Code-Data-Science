{
  "nbformat": 4,
  "nbformat_minor": 0,
  "metadata": {
    "colab": {
      "provenance": []
    },
    "kernelspec": {
      "name": "python3",
      "display_name": "Python 3"
    },
    "language_info": {
      "name": "python"
    }
  },
  "cells": [
    {
      "cell_type": "markdown",
      "source": [
        "# -------------- **Python Modules** --------------\n",
        "\n",
        "                             \"25 January 2024\"   - Akanksha              "
      ],
      "metadata": {
        "id": "IFxrSAvN0FXn"
      }
    },
    {
      "cell_type": "markdown",
      "source": [
        "There are two types of modules:\n",
        "\n",
        "\n",
        "*   Built-in module\n",
        "*   User-defined module"
      ],
      "metadata": {
        "id": "dqFP_mdoxjXJ"
      }
    },
    {
      "cell_type": "code",
      "source": [
        "\n",
        "import math\n",
        "\n",
        "# Calculate the square root of a number\n",
        "num = 25\n",
        "sqrt_num = math.sqrt(num)\n",
        "print(f\"The square root of {num} is {sqrt_num}\")\n",
        "\n",
        "# Calculate the factorial of a number\n",
        "num = 5\n",
        "factorial = math.factorial(num)\n",
        "print(f\"The factorial of {num} is {factorial}\")\n",
        "\n",
        "# Calculate the value of pi\n",
        "pi_value = math.pi\n",
        "print(f\"The value of pi is approximately {pi_value}\")\n",
        "\n",
        "# Calculate the sine of an angle in radians\n",
        "angle_rad = math.radians(30)  # Convert 30 degrees to radians\n",
        "sin_value = math.sin(angle_rad)\n",
        "print(f\"The sine of 30 degrees is {sin_value}\")\n",
        "\n",
        "# Calculate the natural logarithm (base e) of a number\n",
        "num = 2.71828  # Euler's number (approximately)\n",
        "ln_value = math.log(num)\n",
        "print(f\"The natural logarithm of {num} is {ln_value}\")\n",
        "\n",
        "# Calculate the power of a number\n",
        "base = 2\n",
        "exponent = 3\n",
        "power_result = math.pow(base, exponent)\n",
        "print(f\"{base} raised to the power of {exponent} is {power_result}\")\n",
        "\n",
        "# Round a number to the nearest integer\n",
        "num = 3.7\n",
        "rounded_num = math.ceil(num)  # ceil() rounds up, floor() rounds down\n",
        "print(f\"{num} rounded to the nearest integer is {rounded_num}\")"
      ],
      "metadata": {
        "colab": {
          "base_uri": "https://localhost:8080/"
        },
        "id": "YfGy1BZYx3m2",
        "outputId": "441d27ab-2c10-4c16-ccdf-a6df1754672d"
      },
      "execution_count": 1,
      "outputs": [
        {
          "output_type": "stream",
          "name": "stdout",
          "text": [
            "The square root of 25 is 5.0\n",
            "The factorial of 5 is 120\n",
            "The value of pi is approximately 3.141592653589793\n",
            "The sine of 30 degrees is 0.49999999999999994\n",
            "The natural logarithm of 2.71828 is 0.999999327347282\n",
            "2 raised to the power of 3 is 8.0\n",
            "3.7 rounded to the nearest integer is 4\n"
          ]
        }
      ]
    },
    {
      "cell_type": "markdown",
      "source": [
        "Date & Time"
      ],
      "metadata": {
        "id": "h2DuyNZmyUY6"
      }
    },
    {
      "cell_type": "code",
      "source": [
        "\n",
        "import datetime\n",
        "\n",
        "# Get the current date and time\n",
        "current_datetime = datetime.datetime.now()\n",
        "print(f\"Current Date and Time: {current_datetime}\")\n",
        "\n",
        "# Get the current date\n",
        "current_date = datetime.date.today()\n",
        "print(f\"Current Date: {current_date}\")\n",
        "\n",
        "# Create a specific date\n",
        "specific_date = datetime.date(2023, 9, 30)\n",
        "print(f\"Specific Date: {specific_date}\")\n",
        "\n",
        "# Create a specific time\n",
        "specific_time = datetime.time(14, 30, 0)\n",
        "print(f\"Specific Time: {specific_time}\")\n",
        "\n",
        "# Combine date and time into a datetime object\n",
        "combined_datetime = datetime.datetime.combine(specific_date, specific_time)\n",
        "print(f\"Combined DateTime: {combined_datetime}\")\n",
        "\n",
        "# Access individual components of a datetime object\n",
        "year = current_datetime.year\n",
        "month = current_datetime.month\n",
        "day = current_datetime.day\n",
        "hour = current_datetime.hour\n",
        "minute = current_datetime.minute\n",
        "second = current_datetime.second\n",
        "\n",
        "print(f\"Year: {year}\")\n",
        "print(f\"Month: {month}\")\n",
        "print(f\"Day: {day}\")\n",
        "print(f\"Hour: {hour}\")\n",
        "print(f\"Minute: {minute}\")\n",
        "print(f\"Second: {second}\")\n"
      ],
      "metadata": {
        "colab": {
          "base_uri": "https://localhost:8080/"
        },
        "id": "WTbayMvqyW6z",
        "outputId": "680f700a-c0ca-4261-bb45-94f86f240957"
      },
      "execution_count": 2,
      "outputs": [
        {
          "output_type": "stream",
          "name": "stdout",
          "text": [
            "Current Date and Time: 2024-01-25 18:02:29.774524\n",
            "Current Date: 2024-01-25\n",
            "Specific Date: 2023-09-30\n",
            "Specific Time: 14:30:00\n",
            "Combined DateTime: 2023-09-30 14:30:00\n",
            "Year: 2024\n",
            "Month: 1\n",
            "Day: 25\n",
            "Hour: 18\n",
            "Minute: 2\n",
            "Second: 29\n"
          ]
        }
      ]
    },
    {
      "cell_type": "markdown",
      "source": [
        "Calendar"
      ],
      "metadata": {
        "id": "yNqzj6z7ydQk"
      }
    },
    {
      "cell_type": "code",
      "source": [
        "import calendar\n",
        "print(calendar.month(2023, 1))"
      ],
      "metadata": {
        "colab": {
          "base_uri": "https://localhost:8080/"
        },
        "id": "iqFaFdLbygNB",
        "outputId": "24fed80e-ef44-4b6b-a318-728edde8ec16"
      },
      "execution_count": 3,
      "outputs": [
        {
          "output_type": "stream",
          "name": "stdout",
          "text": [
            "    January 2023\n",
            "Mo Tu We Th Fr Sa Su\n",
            "                   1\n",
            " 2  3  4  5  6  7  8\n",
            " 9 10 11 12 13 14 15\n",
            "16 17 18 19 20 21 22\n",
            "23 24 25 26 27 28 29\n",
            "30 31\n",
            "\n"
          ]
        }
      ]
    },
    {
      "cell_type": "code",
      "source": [
        "\n",
        "import sys\n",
        "print(sys.version)\n",
        "print(sys.argv)\n"
      ],
      "metadata": {
        "colab": {
          "base_uri": "https://localhost:8080/"
        },
        "id": "kbVrznayyj6E",
        "outputId": "67b16deb-232a-434b-c6b7-8ee91aeb7fe0"
      },
      "execution_count": 4,
      "outputs": [
        {
          "output_type": "stream",
          "name": "stdout",
          "text": [
            "3.10.12 (main, Nov 20 2023, 15:14:05) [GCC 11.4.0]\n",
            "['/usr/local/lib/python3.10/dist-packages/colab_kernel_launcher.py', '-f', '/root/.local/share/jupyter/runtime/kernel-84bac185-7f4b-4f27-9834-617e12e95868.json']\n"
          ]
        }
      ]
    },
    {
      "cell_type": "markdown",
      "source": [
        "User Defined"
      ],
      "metadata": {
        "id": "Df1pKUS0ysll"
      }
    },
    {
      "cell_type": "code",
      "source": [
        "\n",
        "num1 = int(input(\"Enter first number:\"))\n",
        "\n",
        "num2 = int(input(\"Enter second number:\"))\n",
        "\n",
        "print(\"Addition\", num1 + num2)\n",
        "\n",
        "print(\"Subtraction\", num1 - num2)\n",
        "print(\"Multiplication\", num * num2)\n",
        "print(\"Division\",num1/num2)\n",
        ""
      ],
      "metadata": {
        "colab": {
          "base_uri": "https://localhost:8080/"
        },
        "id": "I2T8wGWAyyyU",
        "outputId": "854af65c-0b09-4265-c7ed-1b19c3b6bbb3"
      },
      "execution_count": 5,
      "outputs": [
        {
          "output_type": "stream",
          "name": "stdout",
          "text": [
            "Enter first number:4\n",
            "Enter second number:2\n",
            "Addition 6\n",
            "Subtraction 2\n",
            "Multiplication 7.4\n",
            "Division 2.0\n"
          ]
        }
      ]
    },
    {
      "cell_type": "code",
      "source": [
        "\n",
        "def square(number):\n",
        "    return number ** 2\n",
        "\n",
        "num = 5\n",
        "result = square(num)\n",
        "print(f\"The square of {num} is {result}\")"
      ],
      "metadata": {
        "colab": {
          "base_uri": "https://localhost:8080/"
        },
        "id": "-ezzraony2b-",
        "outputId": "9a4bf47b-9b4f-49ca-8ebe-f4c8d5798f47"
      },
      "execution_count": 6,
      "outputs": [
        {
          "output_type": "stream",
          "name": "stdout",
          "text": [
            "The square of 5 is 25\n"
          ]
        }
      ]
    },
    {
      "cell_type": "code",
      "source": [
        "\n",
        "import random\n",
        "\n",
        "# Generate a random integer between 1 and 10 (inclusive)\n",
        "random_num = random.randint(1, 10)\n",
        "print(\"Random Number:\", random_num)\n",
        "\n",
        "# Generate a random floating-point number between 0 and 1\n",
        "random_float = random.random()\n",
        "print(\"Random Float:\", random_float)"
      ],
      "metadata": {
        "colab": {
          "base_uri": "https://localhost:8080/"
        },
        "id": "xHwZNrZHy7Py",
        "outputId": "31c56109-6cd6-497e-f2d9-254ca13e2978"
      },
      "execution_count": 7,
      "outputs": [
        {
          "output_type": "stream",
          "name": "stdout",
          "text": [
            "Random Number: 2\n",
            "Random Float: 0.16252253456856325\n"
          ]
        }
      ]
    }
  ]
}