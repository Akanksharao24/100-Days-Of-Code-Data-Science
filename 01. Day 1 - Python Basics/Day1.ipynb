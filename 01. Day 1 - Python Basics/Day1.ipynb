{
  "nbformat": 4,
  "nbformat_minor": 0,
  "metadata": {
    "colab": {
      "provenance": []
    },
    "kernelspec": {
      "name": "python3",
      "display_name": "Python 3"
    },
    "language_info": {
      "name": "python"
    }
  },
  "cells": [
    {
      "cell_type": "markdown",
      "source": [
        "-------------- **Python Decision Making** --------------\n",
        "\n",
        "                             \"10 January 2024\"   - Akanksha              "
      ],
      "metadata": {
        "id": "3lGD637mzu3X"
      }
    },
    {
      "cell_type": "markdown",
      "source": [
        "\n",
        "\n",
        "---\n",
        "\n"
      ],
      "metadata": {
        "id": "SJNsamp18fR3"
      }
    },
    {
      "cell_type": "markdown",
      "source": [
        "If - Else Statement"
      ],
      "metadata": {
        "id": "zylE3Lg505Nc"
      }
    },
    {
      "cell_type": "code",
      "execution_count": 3,
      "metadata": {
        "colab": {
          "base_uri": "https://localhost:8080/"
        },
        "id": "LqCpb7ppzpu-",
        "outputId": "86e5b2c3-9dbd-4eea-a39e-3ca10f247a51"
      },
      "outputs": [
        {
          "output_type": "stream",
          "name": "stdout",
          "text": [
            "Enter the number: 10\n",
            "The number is greater than 0\n"
          ]
        }
      ],
      "source": [
        "Number = int(input('Enter the number: '))\n",
        "if Number > 0:\n",
        "    print('The number is greater than 0')\n",
        "else:\n",
        "    print('The number is less than or equal to 0')\n"
      ]
    },
    {
      "cell_type": "markdown",
      "source": [
        "If - Elif - Else **Statement**"
      ],
      "metadata": {
        "id": "-g2ckwV126v1"
      }
    },
    {
      "cell_type": "code",
      "source": [
        "Number = int(input('Enter the number: '))\n",
        "if Number == 0:\n",
        "    print('The number is 0')\n",
        "elif Number % 2 == 0:\n",
        "    print('The number is an even number')\n",
        "else:\n",
        "    print('The number is an odd number')"
      ],
      "metadata": {
        "colab": {
          "base_uri": "https://localhost:8080/"
        },
        "id": "JDOD35nP3B97",
        "outputId": "c6321a3c-651b-4b9d-a6db-714096c30153"
      },
      "execution_count": 4,
      "outputs": [
        {
          "output_type": "stream",
          "name": "stdout",
          "text": [
            "Enter the number: 80\n",
            "The number is an even number\n"
          ]
        }
      ]
    },
    {
      "cell_type": "markdown",
      "source": [
        "Nested Loops"
      ],
      "metadata": {
        "id": "qfoVfLvc3skj"
      }
    },
    {
      "cell_type": "code",
      "source": [
        "Marks = int(input(\"Enter the student's marks: \"))\n",
        "\n",
        "if Marks >= 90:\n",
        "    grade = 'A'\n",
        "    distinction = Marks >= 95\n",
        "elif Marks >= 80:\n",
        "    grade = 'B'\n",
        "    distinction = False\n",
        "elif Marks >= 70:\n",
        "    grade = 'C'\n",
        "    distinction = False\n",
        "elif Marks >= 60:\n",
        "    grade = 'D'\n",
        "    distinction = False\n",
        "else:\n",
        "    grade = 'F'\n",
        "    distinction = False\n",
        "\n",
        "print(\"Grade:\", grade)\n",
        "\n",
        "if distinction:\n",
        "    print(\"Distinction achieved!\")\n"
      ],
      "metadata": {
        "colab": {
          "base_uri": "https://localhost:8080/"
        },
        "id": "8Hjj8b1O4D2w",
        "outputId": "920b8e05-dc6c-40bb-ffb4-c3778b4e9fc3"
      },
      "execution_count": 7,
      "outputs": [
        {
          "output_type": "stream",
          "name": "stdout",
          "text": [
            "Enter the student's marks: 90\n",
            "Grade: A\n"
          ]
        }
      ]
    },
    {
      "cell_type": "markdown",
      "source": [
        "Short Handed If"
      ],
      "metadata": {
        "id": "ImhAqzC442D-"
      }
    },
    {
      "cell_type": "code",
      "source": [
        "Number = int(input('Enter the number: '))\n",
        "if Number > 0 : print ('The Number is greater than 0')"
      ],
      "metadata": {
        "colab": {
          "base_uri": "https://localhost:8080/"
        },
        "id": "BsZd5byj4z27",
        "outputId": "1490e7ec-9732-47a4-fea7-67ebcffb8b62"
      },
      "execution_count": 8,
      "outputs": [
        {
          "output_type": "stream",
          "name": "stdout",
          "text": [
            "Enter the number: 20\n",
            "The Number is greater than 0\n"
          ]
        }
      ]
    },
    {
      "cell_type": "markdown",
      "source": [
        "Short Handed If - Else"
      ],
      "metadata": {
        "id": "ucwJjKvf5Tq-"
      }
    },
    {
      "cell_type": "code",
      "source": [
        "Number = int(input('Enter the number: '))\n",
        "print ('The Number is greater than 0') if Number > 0 else print ('The Number is less than 0')"
      ],
      "metadata": {
        "colab": {
          "base_uri": "https://localhost:8080/"
        },
        "id": "pkxyuTvS5bj6",
        "outputId": "7ffd14b3-91d8-4fea-fddf-eb0541dd860f"
      },
      "execution_count": 12,
      "outputs": [
        {
          "output_type": "stream",
          "name": "stdout",
          "text": [
            "Enter the number: 10\n",
            "The Number is greater than 0\n"
          ]
        }
      ]
    },
    {
      "cell_type": "markdown",
      "source": [
        "Match - Case Statement"
      ],
      "metadata": {
        "id": "9F0kC8Yg6XRD"
      }
    },
    {
      "cell_type": "code",
      "source": [
        "flag = int(input('Enter num: '))\n",
        "\n",
        "match flag:\n",
        "    case 5 :\n",
        "        print('Flag = 5')\n",
        "    case 10 :\n",
        "        print('Flag = 10')\n",
        "    case 15 :\n",
        "        print('Flag = 15')\n",
        "    case 20 :\n",
        "        print('Flag = 20')\n",
        "    case _ :\n",
        "        print('Not matched')"
      ],
      "metadata": {
        "colab": {
          "base_uri": "https://localhost:8080/"
        },
        "id": "4_rVMxTw6bN_",
        "outputId": "481e0e5b-4f3b-4844-9e7a-aadad9632b78"
      },
      "execution_count": 13,
      "outputs": [
        {
          "output_type": "stream",
          "name": "stdout",
          "text": [
            "Enter num: 10\n",
            "Flag = 10\n"
          ]
        }
      ]
    },
    {
      "cell_type": "markdown",
      "source": [
        "Match - Case With OR"
      ],
      "metadata": {
        "id": "Qii8L4A96nsQ"
      }
    },
    {
      "cell_type": "code",
      "source": [
        "role = 'Admin'\n",
        "\n",
        "match role:\n",
        "    case 'Emp' | 'User':\n",
        "        print('Not allowed access..')\n",
        "    case 'Admin':\n",
        "        print('Allowed access to Admin..')\n",
        "    case _ :\n",
        "        print('No role..')"
      ],
      "metadata": {
        "colab": {
          "base_uri": "https://localhost:8080/"
        },
        "id": "ThY_zpd56oGM",
        "outputId": "91c3931a-c638-4a26-f874-49a410b2c2df"
      },
      "execution_count": 14,
      "outputs": [
        {
          "output_type": "stream",
          "name": "stdout",
          "text": [
            "Allowed access to Admin..\n"
          ]
        }
      ]
    },
    {
      "cell_type": "markdown",
      "source": [
        "\n",
        "\n",
        "---\n",
        "\n"
      ],
      "metadata": {
        "id": "iYbNqolh8h4y"
      }
    },
    {
      "cell_type": "markdown",
      "source": [
        "\n",
        "-------------- Python Loops --------------\n",
        "\n",
        "There are two types of loops\n",
        "\n",
        "\n",
        "*   While Loop\n",
        "*   For Loop\n",
        "\n"
      ],
      "metadata": {
        "id": "ax1UaFyE4itH"
      }
    },
    {
      "cell_type": "markdown",
      "source": [
        "\n",
        "\n",
        "---\n",
        "\n"
      ],
      "metadata": {
        "id": "xtGRu9VG8i7h"
      }
    },
    {
      "cell_type": "markdown",
      "source": [
        "While Loop"
      ],
      "metadata": {
        "id": "RMHCUUli7Q5B"
      }
    },
    {
      "cell_type": "code",
      "source": [
        "count = 1\n",
        "while count<5:\n",
        "    print(count)\n",
        "    count += 1"
      ],
      "metadata": {
        "colab": {
          "base_uri": "https://localhost:8080/"
        },
        "id": "Xtr1AyZe4jXM",
        "outputId": "b80d6bab-8be1-4785-9d10-c5975522c20e"
      },
      "execution_count": 15,
      "outputs": [
        {
          "output_type": "stream",
          "name": "stdout",
          "text": [
            "1\n",
            "2\n",
            "3\n",
            "4\n"
          ]
        }
      ]
    },
    {
      "cell_type": "markdown",
      "source": [
        "While Loop With Else"
      ],
      "metadata": {
        "id": "laEtGxyg7Wcq"
      }
    },
    {
      "cell_type": "code",
      "source": [
        "count = 1\n",
        "while count<5:\n",
        "    print(count)\n",
        "    count += 1\n",
        "else:\n",
        "    print('End of else')"
      ],
      "metadata": {
        "colab": {
          "base_uri": "https://localhost:8080/"
        },
        "id": "txB8GjO-7W6n",
        "outputId": "c63977ac-80f3-49e6-937a-eadfe3a999c8"
      },
      "execution_count": 16,
      "outputs": [
        {
          "output_type": "stream",
          "name": "stdout",
          "text": [
            "1\n",
            "2\n",
            "3\n",
            "4\n",
            "End of else\n"
          ]
        }
      ]
    },
    {
      "cell_type": "markdown",
      "source": [
        "Infinite While Loop"
      ],
      "metadata": {
        "id": "WttvLQO37aK8"
      }
    },
    {
      "cell_type": "code",
      "source": [
        "count = 1\n",
        "while True:\n",
        "    print(count, end=' ')\n",
        "    count += 1"
      ],
      "metadata": {
        "id": "-oN11zry7iRy"
      },
      "execution_count": null,
      "outputs": []
    },
    {
      "cell_type": "markdown",
      "source": [
        "For Loop"
      ],
      "metadata": {
        "id": "kuNkMUur7un3"
      }
    },
    {
      "cell_type": "code",
      "source": [
        "for i in range(1,5):\n",
        "    print(i)"
      ],
      "metadata": {
        "colab": {
          "base_uri": "https://localhost:8080/"
        },
        "id": "L0Tu_KdZ7xnC",
        "outputId": "64639512-e269-4dc5-e839-f4df025ef7f7"
      },
      "execution_count": 19,
      "outputs": [
        {
          "output_type": "stream",
          "name": "stdout",
          "text": [
            "1\n",
            "2\n",
            "3\n",
            "4\n"
          ]
        }
      ]
    },
    {
      "cell_type": "markdown",
      "source": [
        "Nested For Loop"
      ],
      "metadata": {
        "id": "G0CaZjcx8HZS"
      }
    },
    {
      "cell_type": "code",
      "source": [
        "for i in range(1,6):\n",
        "    for j in range(i):\n",
        "        print('*', end=' ')\n",
        "    print()"
      ],
      "metadata": {
        "colab": {
          "base_uri": "https://localhost:8080/"
        },
        "id": "g7_bWafh8F1_",
        "outputId": "f6440ca2-7e98-4184-eaa5-168e92dfaf19"
      },
      "execution_count": 20,
      "outputs": [
        {
          "output_type": "stream",
          "name": "stdout",
          "text": [
            "* \n",
            "* * \n",
            "* * * \n",
            "* * * * \n",
            "* * * * * \n"
          ]
        }
      ]
    },
    {
      "cell_type": "markdown",
      "source": [
        "Looping Control Statement"
      ],
      "metadata": {
        "id": "xUOzMErJ8Nmg"
      }
    },
    {
      "cell_type": "code",
      "source": [
        "for i in range(1,11):\n",
        "    if i%2==0:\n",
        "        continue\n",
        "    print(i)"
      ],
      "metadata": {
        "colab": {
          "base_uri": "https://localhost:8080/"
        },
        "id": "NFQx7dKR8Ifi",
        "outputId": "6b2dec4e-a87e-4316-bbe4-c2747c62ce9f"
      },
      "execution_count": 22,
      "outputs": [
        {
          "output_type": "stream",
          "name": "stdout",
          "text": [
            "1\n",
            "3\n",
            "5\n",
            "7\n",
            "9\n"
          ]
        }
      ]
    },
    {
      "cell_type": "code",
      "source": [
        "for i in range(1,11):\n",
        "    if i%5==0:\n",
        "        break\n",
        "    print(i)"
      ],
      "metadata": {
        "colab": {
          "base_uri": "https://localhost:8080/"
        },
        "id": "PfUr_pWf8Yde",
        "outputId": "5edb9f9b-1f62-422e-c74c-a882b63245a6"
      },
      "execution_count": 23,
      "outputs": [
        {
          "output_type": "stream",
          "name": "stdout",
          "text": [
            "1\n",
            "2\n",
            "3\n",
            "4\n"
          ]
        }
      ]
    },
    {
      "cell_type": "code",
      "source": [
        "for i in range(5):\n",
        "    pass\n",
        "\n",
        "print('Nothing done')"
      ],
      "metadata": {
        "colab": {
          "base_uri": "https://localhost:8080/"
        },
        "id": "MwLJKjry8dTA",
        "outputId": "8d8acc41-d742-4d74-c53f-522ab5bb47bd"
      },
      "execution_count": 24,
      "outputs": [
        {
          "output_type": "stream",
          "name": "stdout",
          "text": [
            "Nothing done\n"
          ]
        }
      ]
    }
  ]
}