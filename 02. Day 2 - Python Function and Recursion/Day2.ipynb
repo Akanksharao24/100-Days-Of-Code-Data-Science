{
  "nbformat": 4,
  "nbformat_minor": 0,
  "metadata": {
    "colab": {
      "provenance": []
    },
    "kernelspec": {
      "name": "python3",
      "display_name": "Python 3"
    },
    "language_info": {
      "name": "python"
    }
  },
  "cells": [
    {
      "cell_type": "markdown",
      "source": [
        "-------------- **Functions** --------------\n",
        "\n",
        "                             \"11 January 2024\"   - Akanksha              "
      ],
      "metadata": {
        "id": "3lGD637mzu3X"
      }
    },
    {
      "cell_type": "markdown",
      "source": [
        "A function is a block of code that performs a specific task."
      ],
      "metadata": {
        "id": "w0ghB7_NC5XF"
      }
    },
    {
      "cell_type": "code",
      "source": [
        "# user-defined function\n",
        "def hello():\n",
        "    print('Hi World')\n",
        "hello()    #function calling"
      ],
      "metadata": {
        "colab": {
          "base_uri": "https://localhost:8080/"
        },
        "id": "pk8diDaGDqIp",
        "outputId": "63b9d658-a28b-48ad-e239-49ac1042fa43"
      },
      "execution_count": 1,
      "outputs": [
        {
          "output_type": "stream",
          "name": "stdout",
          "text": [
            "Hi World\n"
          ]
        }
      ]
    },
    {
      "cell_type": "code",
      "source": [
        "# Function along parameter\n",
        "def addition(n1,n2):\n",
        "    print(n1+n2)\n",
        "addition(50,50)"
      ],
      "metadata": {
        "colab": {
          "base_uri": "https://localhost:8080/"
        },
        "id": "LfH1-pDoEBrt",
        "outputId": "16c75239-711a-4f2c-8656-6800ff978e8f"
      },
      "execution_count": 2,
      "outputs": [
        {
          "output_type": "stream",
          "name": "stdout",
          "text": [
            "100\n"
          ]
        }
      ]
    },
    {
      "cell_type": "code",
      "source": [
        "# Call by value - immutable data types are called by value\n",
        "def increment(n):\n",
        "    n += 1\n",
        "    print('In function: '+str(n))\n",
        "\n",
        "n=10\n",
        "print('Before function: '+str(n))\n",
        "increment(n)\n",
        "print('After function: '+str(n))"
      ],
      "metadata": {
        "colab": {
          "base_uri": "https://localhost:8080/"
        },
        "id": "W7USPrsrEKcc",
        "outputId": "4cc9e138-29fb-459a-8b9d-88dee4897ba2"
      },
      "execution_count": 3,
      "outputs": [
        {
          "output_type": "stream",
          "name": "stdout",
          "text": [
            "Before function: 10\n",
            "In function: 11\n",
            "After function: 10\n"
          ]
        }
      ]
    },
    {
      "cell_type": "markdown",
      "source": [
        "Function Return type"
      ],
      "metadata": {
        "id": "NNRskvTiP0wc"
      }
    },
    {
      "cell_type": "code",
      "source": [
        "# function\n",
        "def find_square(num):\n",
        "    result = num * num\n",
        "    return result\n",
        "#calling function\n",
        "square = find_square(10)\n",
        "\n",
        "print('Square:',square)"
      ],
      "metadata": {
        "colab": {
          "base_uri": "https://localhost:8080/"
        },
        "id": "daONGgKbPkb4",
        "outputId": "847aa21e-e7f1-4e57-f84c-6309ae47f416"
      },
      "execution_count": 5,
      "outputs": [
        {
          "output_type": "stream",
          "name": "stdout",
          "text": [
            "Square: 100\n"
          ]
        }
      ]
    },
    {
      "cell_type": "markdown",
      "source": [
        "**Types of functions**"
      ],
      "metadata": {
        "id": "Rwc1NJunQgsH"
      }
    },
    {
      "cell_type": "markdown",
      "source": [
        "1. Default Arugument"
      ],
      "metadata": {
        "id": "5kc_Ki31Qnuu"
      }
    },
    {
      "cell_type": "code",
      "source": [
        "def adds(n1,n2=50):\n",
        "    print(n1,'+',n2,'=',n1+n2)\n",
        "\n",
        "adds(10)\n",
        "adds(10,10)"
      ],
      "metadata": {
        "colab": {
          "base_uri": "https://localhost:8080/"
        },
        "id": "1RquxuTnQO1w",
        "outputId": "c353075f-362e-4eb1-e1ff-40791e757675"
      },
      "execution_count": 6,
      "outputs": [
        {
          "output_type": "stream",
          "name": "stdout",
          "text": [
            "10 + 50 = 60\n",
            "10 + 10 = 20\n"
          ]
        }
      ]
    },
    {
      "cell_type": "markdown",
      "source": [
        "2. Keyword Arguments"
      ],
      "metadata": {
        "id": "1b_QA-aIQ9Ct"
      }
    },
    {
      "cell_type": "code",
      "source": [
        "def show(first_name, last_name):\n",
        "    print('First Name:', first_name)\n",
        "    print('Last Name:', last_name)\n",
        "\n",
        "show(last_name = 'Akanksha', first_name = 'Rao')"
      ],
      "metadata": {
        "id": "nXJETr7-RDK5"
      },
      "execution_count": null,
      "outputs": []
    },
    {
      "cell_type": "markdown",
      "source": [
        "3. Positional Arguments"
      ],
      "metadata": {
        "id": "5IyLHy-gRXuQ"
      }
    },
    {
      "cell_type": "code",
      "source": [
        "def prints(age,name):\n",
        "    print(age,name)\n",
        "\n",
        "prints('Akanksha',20)\n",
        "prints(20,'Akanksha')"
      ],
      "metadata": {
        "id": "AcmdFHP5Rf8F"
      },
      "execution_count": null,
      "outputs": []
    },
    {
      "cell_type": "markdown",
      "source": [
        "4. Arbitary Arguments"
      ],
      "metadata": {
        "id": "HwQW0dFaRnt7"
      }
    },
    {
      "cell_type": "code",
      "source": [
        "#find sum of multiple numbers\n",
        "def find_sum(*numbers):\n",
        "    result = 0\n",
        "    for num in numbers:\n",
        "        result = result + num\n",
        "    print(\"Sum = \", result)\n",
        "\n",
        "find_sum(1, 2, 3)"
      ],
      "metadata": {
        "id": "pwseq_LARtaP",
        "outputId": "5637fb9d-ca9a-431d-b5ce-416f79be979e",
        "colab": {
          "base_uri": "https://localhost:8080/"
        }
      },
      "execution_count": 9,
      "outputs": [
        {
          "output_type": "stream",
          "name": "stdout",
          "text": [
            "Sum =  6\n"
          ]
        }
      ]
    },
    {
      "cell_type": "markdown",
      "source": [
        "Function Within Function"
      ],
      "metadata": {
        "id": "If80qisBR6Eb"
      }
    },
    {
      "cell_type": "code",
      "source": [
        "def f1():\n",
        "    print('Function 1 body..')\n",
        "    def f2():\n",
        "        print('Function 2 body..')\n",
        "    f2()\n",
        "    print('Function 1 body..')\n",
        "\n",
        "f1()"
      ],
      "metadata": {
        "id": "FSMyCLVpSe74",
        "outputId": "74966e46-2a7b-4fb8-85f7-58d1f6a011d9",
        "colab": {
          "base_uri": "https://localhost:8080/"
        }
      },
      "execution_count": 10,
      "outputs": [
        {
          "output_type": "stream",
          "name": "stdout",
          "text": [
            "Function 1 body..\n",
            "Function 2 body..\n",
            "Function 1 body..\n"
          ]
        }
      ]
    },
    {
      "cell_type": "markdown",
      "source": [
        "Anonymous Lambda Function"
      ],
      "metadata": {
        "id": "dk_1CeDdS6eo"
      }
    },
    {
      "cell_type": "code",
      "source": [
        "sqr = lambda x:x**2\n",
        "print(sqr(10))"
      ],
      "metadata": {
        "id": "M2ppFTcmSz16",
        "outputId": "17ca5c38-b5c9-4e3c-ebf9-e356557cfca9",
        "colab": {
          "base_uri": "https://localhost:8080/"
        }
      },
      "execution_count": 11,
      "outputs": [
        {
          "output_type": "stream",
          "name": "stdout",
          "text": [
            "100\n"
          ]
        }
      ]
    },
    {
      "cell_type": "code",
      "source": [
        "sqr = lambda x:x+10\n",
        "print(sqr(10))"
      ],
      "metadata": {
        "id": "SvAjJdJXTAll",
        "outputId": "4f6a12c0-ad80-4eae-a7f9-49fa1672b12e",
        "colab": {
          "base_uri": "https://localhost:8080/"
        }
      },
      "execution_count": 12,
      "outputs": [
        {
          "output_type": "stream",
          "name": "stdout",
          "text": [
            "20\n"
          ]
        }
      ]
    },
    {
      "cell_type": "markdown",
      "source": [
        "\n",
        "\n",
        "---\n",
        "\n"
      ],
      "metadata": {
        "id": "6-VVP2TeTYST"
      }
    },
    {
      "cell_type": "markdown",
      "source": [
        "**Python Recursion**"
      ],
      "metadata": {
        "id": "GPWyPFJBTWMl"
      }
    },
    {
      "cell_type": "markdown",
      "source": [
        "Recursion is the process of defining something in terms of itself."
      ],
      "metadata": {
        "id": "zaJYI9g2TQ6d"
      }
    },
    {
      "cell_type": "code",
      "source": [
        "\n",
        "def factorial(x):\n",
        "    if x == 1:\n",
        "        return 1\n",
        "    else:\n",
        "        return (x * factorial(x-1))\n",
        "\n",
        "x = int(input(\"Enter the number:\"))\n",
        "print(\"The factorial is\", factorial(x))"
      ],
      "metadata": {
        "id": "nV8hd-HGTW3o",
        "outputId": "c48671cd-9afc-4f29-8a5d-af27aab22bf7",
        "colab": {
          "base_uri": "https://localhost:8080/"
        }
      },
      "execution_count": 13,
      "outputs": [
        {
          "output_type": "stream",
          "name": "stdout",
          "text": [
            "Enter the number:5\n",
            "The factorial is 120\n"
          ]
        }
      ]
    },
    {
      "cell_type": "markdown",
      "source": [
        "\n",
        "\n",
        "---\n",
        "\n"
      ],
      "metadata": {
        "id": "SJNsamp18fR3"
      }
    },
    {
      "cell_type": "code",
      "source": [
        "def row(n):\n",
        "    if n < 1:\n",
        "        return\n",
        "    print(\"*\", end=\" \")\n",
        "    row(n - 1)\n",
        "\n",
        "def pattern(n):\n",
        "    if n < 1:\n",
        "        return\n",
        "    row(n)\n",
        "    print(\"\")\n",
        "    pattern(n - 1)\n",
        "\n",
        "n = 5\n",
        "pattern(n)"
      ],
      "metadata": {
        "id": "rQsit1T5Tlxe",
        "outputId": "90f1af22-c7f1-48ae-8827-ce2cd6c90f8f",
        "colab": {
          "base_uri": "https://localhost:8080/"
        }
      },
      "execution_count": 14,
      "outputs": [
        {
          "output_type": "stream",
          "name": "stdout",
          "text": [
            "* * * * * \n",
            "* * * * \n",
            "* * * \n",
            "* * \n",
            "* \n"
          ]
        }
      ]
    }
  ]
}