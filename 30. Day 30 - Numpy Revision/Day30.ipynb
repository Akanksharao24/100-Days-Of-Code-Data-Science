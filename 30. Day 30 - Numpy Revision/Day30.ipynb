{
  "nbformat": 4,
  "nbformat_minor": 0,
  "metadata": {
    "colab": {
      "provenance": []
    },
    "kernelspec": {
      "name": "python3",
      "display_name": "Python 3"
    },
    "language_info": {
      "name": "python"
    }
  },
  "cells": [
    {
      "cell_type": "markdown",
      "source": [
        "# -------------- **Revision Of Numpy ( 14 - 15 )** --------------\n",
        "\n",
        "                             \"11 February 2024\"   - Akanksha              "
      ],
      "metadata": {
        "id": "IFxrSAvN0FXn"
      }
    }
  ]
}