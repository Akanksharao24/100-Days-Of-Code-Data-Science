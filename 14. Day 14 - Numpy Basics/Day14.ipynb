{
  "nbformat": 4,
  "nbformat_minor": 0,
  "metadata": {
    "colab": {
      "provenance": []
    },
    "kernelspec": {
      "name": "python3",
      "display_name": "Python 3"
    },
    "language_info": {
      "name": "python"
    }
  },
  "cells": [
    {
      "cell_type": "markdown",
      "source": [
        "# -------------- **Numpy Basic** --------------\n",
        "\n",
        "                             \"26 January 2024\"   - Akanksha              "
      ],
      "metadata": {
        "id": "IFxrSAvN0FXn"
      }
    },
    {
      "cell_type": "markdown",
      "source": [
        "NumPy, short for Numerical Python, is a powerful library in Python for numerical computing. It provides support for large, multi-dimensional arrays and matrices, along with mathematical functions to operate on these arrays. NumPy is a fundamental package for scientific computing in Python and is widely used in fields such as machine learning, data science, and engineering. Let's delve into the basics of NumPy:\n",
        "\n",
        "### 1. **Installation:**\n",
        "   You can install NumPy using `pip`:\n",
        "\n"
      ],
      "metadata": {
        "id": "0idNoEsf3BUj"
      }
    },
    {
      "cell_type": "code",
      "source": [
        " pip install numpy"
      ],
      "metadata": {
        "colab": {
          "base_uri": "https://localhost:8080/"
        },
        "id": "xRF8Om9p3cWo",
        "outputId": "4c20762e-c5cd-480a-8ac9-d3251bac27fd"
      },
      "execution_count": 13,
      "outputs": [
        {
          "output_type": "stream",
          "name": "stdout",
          "text": [
            "Requirement already satisfied: numpy in /usr/local/lib/python3.10/dist-packages (1.23.5)\n"
          ]
        }
      ]
    },
    {
      "cell_type": "markdown",
      "source": [
        "### 2. **Importing NumPy:**\n",
        "   After installation, you can import NumPy into your Python script or Jupyter notebook:\n",
        "\n",
        "\n",
        "\n",
        "   It's a common convention to alias NumPy as `np`.\n",
        "\n"
      ],
      "metadata": {
        "id": "LKdoEuEg3FTV"
      }
    },
    {
      "cell_type": "code",
      "source": [
        "   import numpy as np"
      ],
      "metadata": {
        "id": "49kBhJGH3h_s"
      },
      "execution_count": 14,
      "outputs": []
    },
    {
      "cell_type": "markdown",
      "source": [
        "### 3. **NumPy Arrays:**\n",
        "   The primary data structure in NumPy is the array. An array is a grid of values, all of the same type, and is indexed by a tuple of non-negative integers. There are several ways to create NumPy arrays:\n",
        "\n",
        "   - **Using Lists:**\n",
        "     ```python\n",
        "     arr = np.array([1, 2, 3, 4, 5])\n",
        "     ```\n",
        "\n",
        "   - **Using arange():**\n",
        "     ```python\n",
        "     arr = np.arange(0, 10, 2)  # Creates an array from 0 to 10 with a step of 2\n",
        "     ```\n",
        "\n",
        "   - **Using linspace():**\n",
        "     ```python\n",
        "     arr = np.linspace(0, 1, 5)  # Creates an array of 5 evenly spaced values between 0 and 1\n",
        "     ```\n",
        "\n",
        "   - **Zeros and Ones:**\n",
        "     ```python\n",
        "     zeros_arr = np.zeros((3, 3))  # Creates a 3x3 array of zeros\n",
        "     ones_arr = np.ones((2, 4))    # Creates a 2x4 array of ones\n",
        "     ```\n",
        "\n"
      ],
      "metadata": {
        "id": "Lk4z1zRg3JPE"
      }
    },
    {
      "cell_type": "code",
      "source": [
        "arr = np.array([1, 2, 3, 4, 5])"
      ],
      "metadata": {
        "id": "DBXSdDgr4Auu"
      },
      "execution_count": 16,
      "outputs": []
    },
    {
      "cell_type": "markdown",
      "source": [
        "### 4. **Array Attributes:**\n",
        "   - **Shape:**\n",
        "     ```python\n",
        "     shape = arr.shape  # Returns the dimensions of the array\n",
        "     ```\n",
        "\n",
        "   - **Dtype:**\n",
        "     ```python\n",
        "     dtype = arr.dtype  # Returns the data type of the array\n",
        "     ```\n",
        "\n",
        "   - **Size:**\n",
        "     ```python\n",
        "     size = arr.size  # Returns the total number of elements in the array\n",
        "     ```\n",
        "\n"
      ],
      "metadata": {
        "id": "02ZDJSGi3LLw"
      }
    },
    {
      "cell_type": "code",
      "source": [
        "shape = arr.shape\n",
        "dtype = arr.dtype\n",
        "size = arr.size\n",
        "\n",
        "print('Shape of the array =',shape)\n",
        "print('Data Type of the array =',dtype)\n",
        "print('Size of the array =',size)"
      ],
      "metadata": {
        "colab": {
          "base_uri": "https://localhost:8080/"
        },
        "id": "mBIw5Rux32Of",
        "outputId": "fd6f94f2-efe9-432e-b734-e072fa1df68f"
      },
      "execution_count": 19,
      "outputs": [
        {
          "output_type": "stream",
          "name": "stdout",
          "text": [
            "Shape of the array = (5,)\n",
            "Data Type of the array = int64\n",
            "Size of the array = 5\n"
          ]
        }
      ]
    },
    {
      "cell_type": "markdown",
      "source": [
        "### 5. **Indexing and Slicing:**\n",
        "   - NumPy arrays use zero-based indexing.\n",
        "   - Slicing works similarly to Python lists.\n",
        "\n",
        "\n"
      ],
      "metadata": {
        "id": "2iYjcKjL3NhU"
      }
    },
    {
      "cell_type": "code",
      "source": [
        "   arr = np.array([0, 1, 2, 3, 4, 5])\n",
        "   print(arr[2])      # Access element at index 2\n",
        "   print(arr[1:4])    # Slice elements from index 1 to 3"
      ],
      "metadata": {
        "colab": {
          "base_uri": "https://localhost:8080/"
        },
        "id": "tdy5Wlyi3wPW",
        "outputId": "c458d9d9-3c7a-4bfb-b31f-72f234bd51e7"
      },
      "execution_count": 15,
      "outputs": [
        {
          "output_type": "stream",
          "name": "stdout",
          "text": [
            "2\n",
            "[1 2 3]\n"
          ]
        }
      ]
    },
    {
      "cell_type": "markdown",
      "source": [
        "### 6. **Array Operations:**\n",
        "   - NumPy allows for element-wise operations on arrays.\n",
        "\n",
        "\n",
        "\n"
      ],
      "metadata": {
        "id": "hVQv4wrO3PJh"
      }
    },
    {
      "cell_type": "code",
      "source": [
        "   arr1 = np.array([1, 2, 3])\n",
        "   arr2 = np.array([4, 5, 6])\n",
        "\n",
        "   sum_arr = arr1 + arr2       # Element-wise addition\n",
        "   product_arr = arr1 * arr2   # Element-wise multiplication"
      ],
      "metadata": {
        "id": "U_dVAL935BRF"
      },
      "execution_count": 24,
      "outputs": []
    },
    {
      "cell_type": "markdown",
      "source": [
        "### 7. **Mathematical Functions:**\n",
        "   NumPy provides a plethora of mathematical functions that operate on arrays:\n",
        "\n",
        "\n",
        "\n"
      ],
      "metadata": {
        "id": "mMHPstj33TnU"
      }
    },
    {
      "cell_type": "code",
      "source": [
        "   sin_arr = np.sin(arr)\n",
        "   cos_arr = np.cos(arr)\n",
        "   exp_arr = np.exp(arr)\n",
        "\n",
        "   print('Sin of the array =', sin_arr)\n",
        "   print('cos of the array =', cos_arr)\n",
        "   print('Exponential of the array =', exp_arr)"
      ],
      "metadata": {
        "colab": {
          "base_uri": "https://localhost:8080/"
        },
        "id": "H4iJBJ1B4l6l",
        "outputId": "2edcc5b3-56c3-44dd-ba65-4f8bd01c2d43"
      },
      "execution_count": 23,
      "outputs": [
        {
          "output_type": "stream",
          "name": "stdout",
          "text": [
            "Sin of the array = [ 0.84147098  0.90929743  0.14112001 -0.7568025  -0.95892427]\n",
            "cos of the array = [ 0.54030231 -0.41614684 -0.9899925  -0.65364362  0.28366219]\n",
            "Exponential of the array = [  2.71828183   7.3890561   20.08553692  54.59815003 148.4131591 ]\n"
          ]
        }
      ]
    },
    {
      "cell_type": "markdown",
      "source": [
        "### 8. **Linear Algebra:**\n",
        "   NumPy has a `linalg` module for linear algebra operations:\n",
        "\n",
        "\n",
        "\n"
      ],
      "metadata": {
        "id": "es6YKXAV3Vi3"
      }
    },
    {
      "cell_type": "code",
      "source": [
        "   A = np.array([[1, 2], [3, 4]])\n",
        "   det_A = np.linalg.det(A)       # Determinant of A\n",
        "   inv_A = np.linalg.inv(A)       # Inverse of A\n",
        "\n",
        "   print('Determinant of the array =', det_A)\n",
        "   print('Inverse of the array =', inv_A)"
      ],
      "metadata": {
        "colab": {
          "base_uri": "https://localhost:8080/"
        },
        "id": "18LIp-zQ5OjA",
        "outputId": "47739693-d684-4fa0-d922-577f67b75bd0"
      },
      "execution_count": 27,
      "outputs": [
        {
          "output_type": "stream",
          "name": "stdout",
          "text": [
            "Determinant of the array = -2.0000000000000004\n",
            "Inverse of the array = [[-2.   1. ]\n",
            " [ 1.5 -0.5]]\n"
          ]
        }
      ]
    },
    {
      "cell_type": "markdown",
      "source": [
        "### 9. **Random Module:**\n",
        "   NumPy provides a `random` module for generating random numbers:\n",
        "\n",
        "\n",
        "\n"
      ],
      "metadata": {
        "id": "ezb4NlZY3X7U"
      }
    },
    {
      "cell_type": "code",
      "source": [
        "rand_arr = np.random.rand(3, 3)  # 3x3 array of random values between 0 and 1\n",
        "\n",
        "print('Random of the array =', rand_arr)"
      ],
      "metadata": {
        "colab": {
          "base_uri": "https://localhost:8080/"
        },
        "id": "MkD44LJ75VA7",
        "outputId": "af2b9024-e35c-45ce-8529-df77d461a19f"
      },
      "execution_count": 29,
      "outputs": [
        {
          "output_type": "stream",
          "name": "stdout",
          "text": [
            "Random of the array = [[0.14122882 0.96783548 0.76897065]\n",
            " [0.96443515 0.09179714 0.30007155]\n",
            " [0.66342406 0.50842179 0.94089468]]\n"
          ]
        }
      ]
    },
    {
      "cell_type": "markdown",
      "source": [
        "### 10. **Broadcasting:**\n",
        "   NumPy allows for broadcasting, a powerful mechanism that allows NumPy to work with arrays of different shapes during arithmetic operations.\n"
      ],
      "metadata": {
        "id": "7khE-LTD3ZTX"
      }
    },
    {
      "cell_type": "code",
      "source": [
        "arr = np.array([1, 2, 3])\n",
        "scalar_multiply = arr * 2  # Broadcasting the scalar to each element\n",
        "\n",
        "print ('Array = ', scalar_multiply)"
      ],
      "metadata": {
        "colab": {
          "base_uri": "https://localhost:8080/"
        },
        "id": "tenOAAA_5zaD",
        "outputId": "16775d3a-5e94-4374-8d95-481519cab924"
      },
      "execution_count": 32,
      "outputs": [
        {
          "output_type": "stream",
          "name": "stdout",
          "text": [
            "Array =  [2 4 6]\n"
          ]
        }
      ]
    }
  ]
}