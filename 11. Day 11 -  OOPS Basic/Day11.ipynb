{
  "cells": [
    {
      "cell_type": "markdown",
      "metadata": {
        "id": "IFxrSAvN0FXn"
      },
      "source": [
        "# -------------- **Object Oriented Programming OOPS** --------------\n",
        "\n",
        "                             \"23 January 2024\"   - Akanksha              "
      ]
    },
    {
      "cell_type": "markdown",
      "metadata": {
        "id": "HqJWS_E944EJ"
      },
      "source": [
        "## Data Abstraction\n",
        "Data Abstraction is the concept of hiding the complex implementation details while exposing only the essential features of an object. It allows developers to focus on what an object does rather than how it achieves its functionality. In Python, data abstraction is often achieved through the use of classes and abstract methods.\n",
        "\n"
      ]
    },
    {
      "cell_type": "code",
      "execution_count": 9,
      "metadata": {
        "id": "yeUQ1fuE53gm"
      },
      "outputs": [],
      "source": [
        "from abc import ABC, abstractmethod\n",
        "\n",
        "class Shape(ABC):\n",
        "    @abstractmethod\n",
        "    def area(self):\n",
        "        pass\n",
        "\n",
        "class Circle(Shape):\n",
        "    def __init__(self, radius):\n",
        "        self.radius = radius\n",
        "\n",
        "    def area(self):\n",
        "        return 3.14 * self.radius * self.radius\n",
        "\n"
      ]
    },
    {
      "cell_type": "markdown",
      "metadata": {
        "id": "8AfPkH0k5Cxr"
      },
      "source": [
        "\n",
        "## Encapsulation\n",
        "Encapsulation involves bundling the data (attributes) and methods that operate on the data into a single unit, known as a class. It restricts access to some of the object's components, protecting the integrity of the data. In Python, encapsulation is implemented through private and public access modifiers.\n",
        "\n",
        "\n"
      ]
    },
    {
      "cell_type": "code",
      "execution_count": 10,
      "metadata": {
        "id": "8d5XWevK6FYx"
      },
      "outputs": [],
      "source": [
        "class BankAccount:\n",
        "    def __init__(self, balance):\n",
        "        self.__balance = balance  # Private attribute\n",
        "\n",
        "    def deposit(self, amount):\n",
        "        self.__balance += amount\n",
        "\n",
        "    def get_balance(self):\n",
        "        return self.__balance"
      ]
    },
    {
      "cell_type": "markdown",
      "metadata": {
        "id": "q_i0pt2T5GG8"
      },
      "source": [
        "## Inheritance\n",
        "Inheritance is a mechanism that allows a new class (subclass or derived class) to inherit properties and behaviors from an existing class (base class or superclass). It promotes code reuse and the creation of a hierarchy of classes.\n",
        "\n",
        "\n"
      ]
    },
    {
      "cell_type": "code",
      "execution_count": 11,
      "metadata": {
        "id": "6hKZosQW6JQ3"
      },
      "outputs": [],
      "source": [
        "class Animal:\n",
        "    def speak(self):\n",
        "        pass\n",
        "\n",
        "class Dog(Animal):\n",
        "    def speak(self):\n",
        "        return \"Woof!\"\n",
        "\n",
        "class Cat(Animal):\n",
        "    def speak(self):\n",
        "        return \"Meow!\""
      ]
    },
    {
      "cell_type": "markdown",
      "metadata": {
        "id": "tejCKZyc5Itu"
      },
      "source": [
        "## Polymorphism\n",
        "Polymorphism allows objects of different classes to be treated as objects of a common base class. It enables a single interface to represent different types of objects. In Python, polymorphism is often achieved through method overloading and method overriding.\n",
        "\n",
        "\n",
        "\n",
        " For more information and examples, refer to the official Python documentation on [Object-Oriented Programming](https://docs.python.org/3/tutorial/classes.html)."
      ]
    },
    {
      "cell_type": "code",
      "execution_count": 12,
      "metadata": {
        "id": "SIWKMa1B6QET"
      },
      "outputs": [],
      "source": [
        "class Calculator:\n",
        "    def add(self, a, b):\n",
        "        return a + b\n",
        "\n",
        "# Polymorphic usage\n",
        "calc = Calculator()\n",
        "result = calc.add(5, 3)  # Using the same method name for different types"
      ]
    }
  ],
  "metadata": {
    "colab": {
      "provenance": []
    },
    "kernelspec": {
      "display_name": "Python 3",
      "name": "python3"
    },
    "language_info": {
      "name": "python"
    }
  },
  "nbformat": 4,
  "nbformat_minor": 0
}
