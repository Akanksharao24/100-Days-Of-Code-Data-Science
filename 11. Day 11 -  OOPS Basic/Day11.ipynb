{
  "cells": [
    {
      "cell_type": "markdown",
      "metadata": {
        "id": "IFxrSAvN0FXn"
      },
      "source": [
        "# -------------- **Object Oriented Programming OOPS** --------------\n",
        "\n",
        "                             \"23 January 2024\"   - Akanksha              "
      ]
    },
    {
      "cell_type": "markdown",
      "metadata": {
        "id": "HqJWS_E944EJ"
      },
      "source": [
        "## Data Abstraction\n",
        "Data Abstraction is the concept of hiding the complex implementation details while exposing only the essential features of an object. It allows developers to focus on what an object does rather than how it achieves its functionality. In Python, data abstraction is often achieved through the use of classes and abstract methods.\n",
        "\n"
      ]
    },
    {
      "cell_type": "code",
      "execution_count": 9,
      "metadata": {
        "id": "yeUQ1fuE53gm"
      },
      "outputs": [],
      "source": [
        "from abc import ABC, abstractmethod\n",
        "\n",
        "class Shape(ABC):\n",
        "    @abstractmethod\n",
        "    def area(self):\n",
        "        pass\n",
        "\n",
        "class Circle(Shape):\n",
        "    def __init__(self, radius):\n",
        "        self.radius = radius\n",
        "\n",
        "    def area(self):\n",
        "        return 3.14 * self.radius * self.radius\n",
        "\n"
      ]
    },
    {
      "cell_type": "markdown",
      "metadata": {
        "id": "8AfPkH0k5Cxr"
      },
      "source": [
        "\n",
        "## Encapsulation\n",
        "Encapsulation involves bundling the data (attributes) and methods that operate on the data into a single unit, known as a class. It restricts access to some of the object's components, protecting the integrity of the data. In Python, encapsulation is implemented through private and public access modifiers.\n",
        "\n",
        "\n"
      ]
    },
    {
      "cell_type": "code",
      "execution_count": 10,
      "metadata": {
        "id": "8d5XWevK6FYx"
      },
      "outputs": [],
      "source": [
        "class BankAccount:\n",
        "    def __init__(self, balance):\n",
        "        self.__balance = balance  # Private attribute\n",
        "\n",
        "    def deposit(self, amount):\n",
        "        self.__balance += amount\n",
        "\n",
        "    def get_balance(self):\n",
        "        return self.__balance"
      ]
    }
  ],
  "metadata": {
    "colab": {
      "provenance": []
    },
    "kernelspec": {
      "display_name": "Python 3",
      "name": "python3"
    },
    "language_info": {
      "name": "python"
    }
  },
  "nbformat": 4,
  "nbformat_minor": 0
}
