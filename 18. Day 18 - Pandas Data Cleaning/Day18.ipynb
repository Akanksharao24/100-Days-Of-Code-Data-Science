{
  "nbformat": 4,
  "nbformat_minor": 0,
  "metadata": {
    "colab": {
      "provenance": []
    },
    "kernelspec": {
      "name": "python3",
      "display_name": "Python 3"
    },
    "language_info": {
      "name": "python"
    }
  },
  "cells": [
    {
      "cell_type": "markdown",
      "source": [
        "# -------------- **Pandas Data Cleaning** --------------\n",
        "\n",
        "                             \"30 January 2024\"   - Akanksha              "
      ],
      "metadata": {
        "id": "IFxrSAvN0FXn"
      }
    },
    {
      "cell_type": "code",
      "source": [
        "import pandas as pd\n",
        "\n",
        "data = {'A': [10, 20, None, 30, 40],\n",
        "        'B': [None, 'chennai', 'coimbatore', 'london', 'america']}\n",
        "\n",
        "df = pd.DataFrame(data)\n"
      ],
      "metadata": {
        "id": "jmqsED1yPzS4"
      },
      "execution_count": 2,
      "outputs": []
    },
    {
      "cell_type": "code",
      "source": [
        "print(df)"
      ],
      "metadata": {
        "colab": {
          "base_uri": "https://localhost:8080/"
        },
        "id": "3_-uzRo7P1xW",
        "outputId": "6c063b76-9aa6-45cf-c03e-c2a919bef93c"
      },
      "execution_count": 4,
      "outputs": [
        {
          "output_type": "stream",
          "name": "stdout",
          "text": [
            "      A           B\n",
            "0  10.0        None\n",
            "1  20.0     chennai\n",
            "2   NaN  coimbatore\n",
            "3  30.0      london\n",
            "4  40.0     america\n"
          ]
        }
      ]
    },
    {
      "cell_type": "markdown",
      "source": [
        "## Handling Missing Values:\n",
        "\n",
        "### Dropping Rows or Columns with Missing Values\n",
        "\n",
        "Dropping rows with missing values:\n"
      ],
      "metadata": {
        "id": "xjMNLfjWQm_8"
      }
    },
    {
      "cell_type": "code",
      "source": [
        "clean_df = df.dropna()\n",
        "print(clean_df)"
      ],
      "metadata": {
        "colab": {
          "base_uri": "https://localhost:8080/"
        },
        "id": "x-Ld3myrRXtt",
        "outputId": "e96fff92-2356-46df-b27c-f979f97a34ff"
      },
      "execution_count": 6,
      "outputs": [
        {
          "output_type": "stream",
          "name": "stdout",
          "text": [
            "      A        B\n",
            "1  20.0  chennai\n",
            "3  30.0   london\n",
            "4  40.0  america\n"
          ]
        }
      ]
    },
    {
      "cell_type": "markdown",
      "source": [
        "Dropping columns with missing values:\n",
        "\n"
      ],
      "metadata": {
        "id": "Tmi1RikTQsqa"
      }
    },
    {
      "cell_type": "code",
      "source": [
        "clean_df = df.dropna(axis=1)\n",
        "print(clean_df)"
      ],
      "metadata": {
        "colab": {
          "base_uri": "https://localhost:8080/"
        },
        "id": "z682CRxRReas",
        "outputId": "1bda9fe6-cf24-4e66-87e9-46bf11be6bcc"
      },
      "execution_count": 7,
      "outputs": [
        {
          "output_type": "stream",
          "name": "stdout",
          "text": [
            "Empty DataFrame\n",
            "Columns: []\n",
            "Index: [0, 1, 2, 3, 4]\n"
          ]
        }
      ]
    },
    {
      "cell_type": "markdown",
      "source": [
        "Filling missing values of 'A' with the mean of the column:\n",
        "\n"
      ],
      "metadata": {
        "id": "ScANtUeXQvsa"
      }
    },
    {
      "cell_type": "code",
      "source": [
        "df['A'].fillna(df['A'].mean(), inplace=True)\n",
        "print(df)"
      ],
      "metadata": {
        "colab": {
          "base_uri": "https://localhost:8080/"
        },
        "id": "YyhVz-bpRira",
        "outputId": "b01f3ccb-379f-4dde-eab4-df6d4eb85ae2"
      },
      "execution_count": 8,
      "outputs": [
        {
          "output_type": "stream",
          "name": "stdout",
          "text": [
            "      A           B\n",
            "0  10.0        None\n",
            "1  20.0     chennai\n",
            "2  25.0  coimbatore\n",
            "3  30.0      london\n",
            "4  40.0     america\n"
          ]
        }
      ]
    },
    {
      "cell_type": "markdown",
      "source": [
        "## Removing Duplicates:\n",
        "\n",
        "### Removing Duplicate Rows\n",
        "\n",
        "Removing duplicate rows:\n"
      ],
      "metadata": {
        "id": "Hq4D4sVgQyeV"
      }
    },
    {
      "cell_type": "code",
      "source": [
        "x1 = df.drop_duplicates()\n",
        "print(x1)"
      ],
      "metadata": {
        "colab": {
          "base_uri": "https://localhost:8080/"
        },
        "id": "nMnxUPToRnGD",
        "outputId": "2e27e1b9-ce09-4dc1-b799-b4746d475dc9"
      },
      "execution_count": 9,
      "outputs": [
        {
          "output_type": "stream",
          "name": "stdout",
          "text": [
            "      A           B\n",
            "0  10.0        None\n",
            "1  20.0     chennai\n",
            "2  25.0  coimbatore\n",
            "3  30.0      london\n",
            "4  40.0     america\n"
          ]
        }
      ]
    },
    {
      "cell_type": "markdown",
      "source": [
        "## Data Type Conversion:\n",
        "\n",
        "### Converting Data Types\n",
        "\n",
        "Converting 'A' column data types to integers:\n",
        "\n",
        "\n"
      ],
      "metadata": {
        "id": "tS1S-IcFQ7dB"
      }
    },
    {
      "cell_type": "code",
      "source": [
        "df['A'] = df['A'].astype(int)\n",
        "print(df)"
      ],
      "metadata": {
        "colab": {
          "base_uri": "https://localhost:8080/"
        },
        "id": "JaK0Xr4vRq4N",
        "outputId": "4c303835-31f6-441e-e9db-b44cc15224c4"
      },
      "execution_count": 10,
      "outputs": [
        {
          "output_type": "stream",
          "name": "stdout",
          "text": [
            "    A           B\n",
            "0  10        None\n",
            "1  20     chennai\n",
            "2  25  coimbatore\n",
            "3  30      london\n",
            "4  40     america\n"
          ]
        }
      ]
    },
    {
      "cell_type": "markdown",
      "source": [
        "## String Cleaning:\n",
        "\n",
        "### Stripping and Lowercasing Strings\n",
        "\n",
        "Stripping leading and trailing whitespaces, and converting 'B' column to lowercase:\n",
        "\n",
        "\n"
      ],
      "metadata": {
        "id": "W2BDStpwRC_P"
      }
    },
    {
      "cell_type": "code",
      "source": [
        "df['B'] = df['B'].str.strip()\n",
        "print(df)"
      ],
      "metadata": {
        "colab": {
          "base_uri": "https://localhost:8080/"
        },
        "id": "H8vSCi8pRuSB",
        "outputId": "ae3be347-a9e7-40d0-b9cd-c63c4aa82a71"
      },
      "execution_count": 11,
      "outputs": [
        {
          "output_type": "stream",
          "name": "stdout",
          "text": [
            "    A           B\n",
            "0  10        None\n",
            "1  20     chennai\n",
            "2  25  coimbatore\n",
            "3  30      london\n",
            "4  40     america\n"
          ]
        }
      ]
    },
    {
      "cell_type": "code",
      "source": [
        "df['B'] = df['B'].str.lower()\n",
        "print(df)"
      ],
      "metadata": {
        "colab": {
          "base_uri": "https://localhost:8080/"
        },
        "id": "pi8kd2VeRzw0",
        "outputId": "c27f8518-3202-40f7-d15a-6a999d70914c"
      },
      "execution_count": 12,
      "outputs": [
        {
          "output_type": "stream",
          "name": "stdout",
          "text": [
            "    A           B\n",
            "0  10        None\n",
            "1  20     chennai\n",
            "2  25  coimbatore\n",
            "3  30      london\n",
            "4  40     america\n"
          ]
        }
      ]
    },
    {
      "cell_type": "markdown",
      "source": [
        "## Removing Irrelevant Columns:\n",
        "\n",
        "### Removing and Replacing Columns\n",
        "\n",
        "Removing 'C' column:\n",
        "\n",
        "\n",
        "\n",
        "\n"
      ],
      "metadata": {
        "id": "TPtk4q-9RHwl"
      }
    },
    {
      "cell_type": "code",
      "source": [
        "df.drop('C', axis=1, inplace=True)\n",
        "print(df)"
      ],
      "metadata": {
        "id": "43slOth-R7C0"
      },
      "execution_count": null,
      "outputs": []
    },
    {
      "cell_type": "markdown",
      "source": [
        "Replacing 'cherry' with 'orange' in 'B' column:\n"
      ],
      "metadata": {
        "id": "SuUDO-TwSDJh"
      }
    },
    {
      "cell_type": "code",
      "source": [
        "df['B'] = df['B'].replace('cherry', 'orange')\n",
        "print(df)"
      ],
      "metadata": {
        "colab": {
          "base_uri": "https://localhost:8080/"
        },
        "id": "GlDL_pLgSCcc",
        "outputId": "b568740d-5545-4477-f8e1-c3f76e1adbe1"
      },
      "execution_count": 14,
      "outputs": [
        {
          "output_type": "stream",
          "name": "stdout",
          "text": [
            "    A           B\n",
            "0  10        None\n",
            "1  20     chennai\n",
            "2  25  coimbatore\n",
            "3  30      london\n",
            "4  40     america\n"
          ]
        }
      ]
    },
    {
      "cell_type": "markdown",
      "source": [
        "# Data Transformation\n",
        "\n",
        "## apply():\n",
        "\n",
        "### Applying a Function to a Column\n",
        "\n",
        "Doubling the values in 'A' column using the `apply` method:\n",
        "\n",
        "\n"
      ],
      "metadata": {
        "id": "nHMPRLoIRKGI"
      }
    },
    {
      "cell_type": "code",
      "source": [
        "def double_value(x):\n",
        "    return x * 2\n",
        "\n",
        "df['A_doubled'] = df['A'].apply(double_value)\n",
        "print(df)"
      ],
      "metadata": {
        "colab": {
          "base_uri": "https://localhost:8080/"
        },
        "id": "R9_ppQOKSNbx",
        "outputId": "4b37d841-945d-4b16-f740-cc60fda460ae"
      },
      "execution_count": 15,
      "outputs": [
        {
          "output_type": "stream",
          "name": "stdout",
          "text": [
            "    A           B  A_doubled\n",
            "0  10        None         20\n",
            "1  20     chennai         40\n",
            "2  25  coimbatore         50\n",
            "3  30      london         60\n",
            "4  40     america         80\n"
          ]
        }
      ]
    },
    {
      "cell_type": "markdown",
      "source": [
        "## map():\n",
        "\n",
        "### Mapping Categories to Numerical Values\n",
        "\n",
        "Mapping categories in 'Category' column to numerical values:\n",
        "\n",
        "\n",
        "\n"
      ],
      "metadata": {
        "id": "82-3vMF2ROSs"
      }
    },
    {
      "cell_type": "code",
      "source": [
        "data = {'Category': ['A', 'B', 'A', 'C', 'B']}\n",
        "df = pd.DataFrame(data)\n",
        "\n",
        "category_mapping = {'A': 1, 'B': 2, 'C': 3}\n",
        "\n",
        "df['Category_Num'] = df['Category'].map(category_mapping)\n",
        "print(df)"
      ],
      "metadata": {
        "colab": {
          "base_uri": "https://localhost:8080/"
        },
        "id": "mwZ8l0ciSQkI",
        "outputId": "4ed4bbbd-2869-4aea-bbcf-817c92f3f19e"
      },
      "execution_count": 17,
      "outputs": [
        {
          "output_type": "stream",
          "name": "stdout",
          "text": [
            "  Category  Category_Num\n",
            "0        A             1\n",
            "1        B             2\n",
            "2        A             1\n",
            "3        C             3\n",
            "4        B             2\n"
          ]
        }
      ]
    },
    {
      "cell_type": "markdown",
      "source": [
        "## applymap():\n",
        "\n",
        "### Applying Element-wise Function to DataFrame\n",
        "\n",
        "Squaring all elements in the DataFrame:\n"
      ],
      "metadata": {
        "id": "sCgSuX6mRRHY"
      }
    },
    {
      "cell_type": "code",
      "source": [
        "data = {'A': [1, 2, 3],\n",
        "        'B': [4, 5, 6]}\n",
        "df = pd.DataFrame(data)\n",
        "\n",
        "def square(x):\n",
        "    return x ** 2\n",
        "\n",
        "df_squared = df.applymap(square)\n",
        "print(df_squared)"
      ],
      "metadata": {
        "colab": {
          "base_uri": "https://localhost:8080/"
        },
        "id": "ttfLfm5FSdF9",
        "outputId": "eb61701a-4cca-44f7-d971-eace91af24e5"
      },
      "execution_count": 19,
      "outputs": [
        {
          "output_type": "stream",
          "name": "stdout",
          "text": [
            "   A   B\n",
            "0  1  16\n",
            "1  4  25\n",
            "2  9  36\n"
          ]
        }
      ]
    }
  ]
}