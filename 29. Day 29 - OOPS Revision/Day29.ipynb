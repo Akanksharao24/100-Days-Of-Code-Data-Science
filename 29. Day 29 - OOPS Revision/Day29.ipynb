{
  "nbformat": 4,
  "nbformat_minor": 0,
  "metadata": {
    "colab": {
      "provenance": []
    },
    "kernelspec": {
      "name": "python3",
      "display_name": "Python 3"
    },
    "language_info": {
      "name": "python"
    }
  },
  "cells": [
    {
      "cell_type": "markdown",
      "source": [
        "# -------------- **Revision Of OOPS ( 10 - 12 )** --------------\n",
        "\n",
        "                             \"10 February 2024\"   - Akanksha              "
      ],
      "metadata": {
        "id": "IFxrSAvN0FXn"
      }
    }
  ]
}