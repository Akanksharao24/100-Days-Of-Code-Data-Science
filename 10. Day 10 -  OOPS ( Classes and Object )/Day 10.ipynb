{
  "nbformat": 4,
  "nbformat_minor": 0,
  "metadata": {
    "colab": {
      "provenance": []
    },
    "kernelspec": {
      "name": "python3",
      "display_name": "Python 3"
    },
    "language_info": {
      "name": "python"
    }
  },
  "cells": [
    {
      "cell_type": "markdown",
      "source": [
        "# -------------- **Object Oriented Programming OOPS** --------------\n",
        "\n",
        "                             \"22 January 2024\"   - Akanksha              "
      ],
      "metadata": {
        "id": "IFxrSAvN0FXn"
      }
    },
    {
      "cell_type": "markdown",
      "source": [
        "## Class Declaration\n",
        "A class is a blueprint for creating objects in Python. It encapsulates attributes and methods that define the behavior of objects. To declare a class, use the `class` keyword:\n",
        "\n",
        "```python\n",
        "class MyClass:\n",
        "    # Class body\n",
        "    pass\n",
        "```\n",
        "\n",
        "## Object Instantiation\n",
        "Objects are instances of a class. To create an object, you instantiate the class:\n",
        "\n",
        "```python\n",
        "my_object = MyClass()\n",
        "```\n",
        "\n",
        "This creates an instance of `MyClass` named `my_object`."
      ],
      "metadata": {
        "id": "M3GV0NU60SnD"
      }
    },
    {
      "cell_type": "markdown",
      "source": [
        "\n",
        "## Constructor and Destructor\n",
        "### Constructor\n",
        "A constructor initializes the object's attributes when the object is created. In Python, the constructor method is named `__init__`:\n",
        "\n",
        "```python\n",
        "class MyClass:\n",
        "    def __init__(self, attribute1, attribute2):\n",
        "        self.attribute1 = attribute1\n",
        "        self.attribute2 = attribute2\n",
        "```\n",
        "\n",
        "### Destructor\n",
        "A destructor is used to clean up resources when an object is no longer in use. In Python, the destructor method is named `__del__`:\n",
        "\n",
        "```python\n",
        "class MyClass:\n",
        "    def __del__(self):\n",
        "        # Cleanup code\n",
        "```\n",
        "\n"
      ],
      "metadata": {
        "id": "HeGHpQVX02V8"
      }
    },
    {
      "cell_type": "markdown",
      "source": [
        "## Built-in Class Attributes and Functions\n",
        "Python provides built-in attributes and functions for classes. Some commonly used ones include:\n",
        "\n",
        "- `__doc__`: Retrieves the docstring of the class.\n",
        "- `__dict__`: Contains the namespace of the class.\n",
        "- `__module__`: Represents the module in which the class is defined.\n",
        "- `__class__`: References the class type of an instance.\n",
        "\n",
        "Example:\n",
        "\n",
        "```python\n",
        "class MyClass:\n",
        "    \"\"\"This is a docstring.\"\"\"\n",
        "    def my_method(self):\n",
        "        pass\n",
        "\n",
        "# Accessing built-in attributes\n",
        "print(MyClass.__doc__)\n",
        "print(MyClass.__module__)\n",
        "```\n",
        "\n"
      ],
      "metadata": {
        "id": "YWBsChrC08wP"
      }
    },
    {
      "cell_type": "markdown",
      "source": [
        "## Instance, Class, and Static Variables and Functions\n",
        "### Instance Variables and Functions\n",
        "Instance variables are specific to each instance of a class. Instance functions operate on instance variables:\n",
        "\n",
        "```python\n",
        "class MyClass:\n",
        "    def __init__(self, name):\n",
        "        self.name = name\n",
        "\n",
        "    def get_name(self):\n",
        "        return self.name\n",
        "```\n",
        "\n",
        "### Class Variables and Functions\n",
        "Class variables are shared among all instances of a class. Class functions operate on class variables:\n",
        "\n",
        "```python\n",
        "class MyClass:\n",
        "    class_variable = 0\n",
        "\n",
        "    def __init__(self):\n",
        "        MyClass.class_variable += 1\n",
        "\n",
        "    @classmethod\n",
        "    def get_class_variable(cls):\n",
        "        return cls.class_variable\n",
        "```\n",
        "\n",
        "### Static Variables and Functions\n",
        "Static variables are similar to class variables, but they are not bound to the class or instance. Static functions don't have access to instance or class variables:\n",
        "\n",
        "```python\n",
        "class MyClass:\n",
        "    static_variable = 42\n",
        "\n",
        "    @staticmethod\n",
        "    def static_function():\n",
        "        return MyClass.static_variable\n",
        "```\n",
        "\n",
        "Refer to the official Python documentation: [Python Classes](https://docs.python.org/3/tutorial/classes.html)."
      ],
      "metadata": {
        "id": "HpfoLSXf1CSN"
      }
    },
    {
      "cell_type": "code",
      "source": [
        "class MyClass:\n",
        "    class_variable = 0  # Class variable\n",
        "\n",
        "    def __init__(self, attribute1, attribute2, name):\n",
        "        self.attribute1 = attribute1  # Instance variable\n",
        "        self.attribute2 = attribute2  # Instance variable\n",
        "        self.name = name  # Instance variable\n",
        "\n",
        "        MyClass.class_variable += 1  # Increment class variable on instance creation\n",
        "\n",
        "    def __del__(self):\n",
        "        print(f\"Object with attributes {self.attribute1}, {self.attribute2}, and name {self.name} is being destroyed.\")\n",
        "\n",
        "    def get_name(self):\n",
        "        return self.name\n",
        "\n",
        "    @classmethod\n",
        "    def get_class_variable(cls):\n",
        "        return cls.class_variable\n",
        "\n",
        "    @staticmethod\n",
        "    def static_function():\n",
        "        return MyClass.class_variable\n",
        "\n",
        "# Object instantiation and usage\n",
        "obj1 = MyClass(\"A\", \"B\", \"John\")\n",
        "obj2 = MyClass(\"C\", \"D\", \"Alice\")\n",
        "\n",
        "print(obj1.get_name())  # Output: John\n",
        "print(obj2.get_name())  # Output: Alice\n",
        "\n",
        "print(MyClass.get_class_variable())  # Output: 2 (two instances created)\n",
        "\n",
        "print(MyClass.static_function())  # Output: 2 (static function accessing class variable)\n",
        "\n",
        "# Explicitly deleting one of the objects\n",
        "del obj1\n"
      ],
      "metadata": {
        "id": "K8H_GppH248N",
        "outputId": "667cfc15-1663-44a6-d26e-491e0ba88a60",
        "colab": {
          "base_uri": "https://localhost:8080/"
        }
      },
      "execution_count": 5,
      "outputs": [
        {
          "output_type": "stream",
          "name": "stdout",
          "text": [
            "John\n",
            "Alice\n",
            "2\n",
            "2\n",
            "Object with attributes A, B, and name John is being destroyed.\n"
          ]
        }
      ]
    }
  ]
}