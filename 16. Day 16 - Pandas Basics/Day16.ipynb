{
  "nbformat": 4,
  "nbformat_minor": 0,
  "metadata": {
    "colab": {
      "provenance": []
    },
    "kernelspec": {
      "name": "python3",
      "display_name": "Python 3"
    },
    "language_info": {
      "name": "python"
    }
  },
  "cells": [
    {
      "cell_type": "markdown",
      "source": [
        "# -------------- **Pandas Basic** --------------\n",
        "\n",
        "                             \"28 January 2024\"   - Akanksha              "
      ],
      "metadata": {
        "id": "IFxrSAvN0FXn"
      }
    },
    {
      "cell_type": "markdown",
      "source": [
        "## 1. **Installing Pandas:**\n",
        "\n",
        "Before you start, make sure to install pandas. You can install it using the following command:\n",
        "\n",
        "\n"
      ],
      "metadata": {
        "id": "bvRmTEyGh-QF"
      }
    },
    {
      "cell_type": "code",
      "source": [
        "pip install pandas"
      ],
      "metadata": {
        "colab": {
          "base_uri": "https://localhost:8080/"
        },
        "id": "_MQ5zpEpj3lp",
        "outputId": "9d3e3358-2add-47fd-f0fa-6daf42fb870e"
      },
      "execution_count": 17,
      "outputs": [
        {
          "output_type": "stream",
          "name": "stdout",
          "text": [
            "Requirement already satisfied: pandas in /usr/local/lib/python3.10/dist-packages (1.5.3)\n",
            "Requirement already satisfied: python-dateutil>=2.8.1 in /usr/local/lib/python3.10/dist-packages (from pandas) (2.8.2)\n",
            "Requirement already satisfied: pytz>=2020.1 in /usr/local/lib/python3.10/dist-packages (from pandas) (2023.3.post1)\n",
            "Requirement already satisfied: numpy>=1.21.0 in /usr/local/lib/python3.10/dist-packages (from pandas) (1.23.5)\n",
            "Requirement already satisfied: six>=1.5 in /usr/local/lib/python3.10/dist-packages (from python-dateutil>=2.8.1->pandas) (1.16.0)\n"
          ]
        }
      ]
    },
    {
      "cell_type": "markdown",
      "source": [
        "## 2. **Importing Pandas:**\n",
        "\n",
        "\n",
        "\n",
        "\n"
      ],
      "metadata": {
        "id": "A2Lpkq8GiO3u"
      }
    },
    {
      "cell_type": "code",
      "source": [
        "import pandas as pd"
      ],
      "metadata": {
        "id": "PWZqZXTJj9Gd"
      },
      "execution_count": 18,
      "outputs": []
    },
    {
      "cell_type": "markdown",
      "source": [
        "## 3. **Creating DataFrames:**\n",
        "\n",
        "A DataFrame is the primary data structure in pandas, and it can be thought of as a table.\n",
        "\n",
        "### 3.1 From Lists or Numpy Arrays:\n",
        "\n",
        "\n",
        "\n"
      ],
      "metadata": {
        "id": "XIhT5tDFiSxK"
      }
    },
    {
      "cell_type": "code",
      "source": [
        "import pandas as pd\n",
        "\n",
        "data = {'Name': ['Alice', 'Bob', 'Charlie'],\n",
        "        'Age': [25, 30, 35],\n",
        "        'City': ['New York', 'San Francisco', 'Los Angeles']}\n",
        "\n",
        "df = pd.DataFrame(data)"
      ],
      "metadata": {
        "id": "TakVg1UzkLco"
      },
      "execution_count": 19,
      "outputs": []
    },
    {
      "cell_type": "markdown",
      "source": [
        "### 3.2 From CSV Files:\n",
        "\n",
        "```python\n",
        "df = pd.read_csv('your_file.csv')\n",
        "```\n",
        "\n"
      ],
      "metadata": {
        "id": "SZWuhCpjieUi"
      }
    },
    {
      "cell_type": "markdown",
      "source": [
        "## 4. **Basic DataFrame Exploration:**\n",
        "\n",
        "### 4.1 Displaying the DataFrame:\n",
        "\n",
        "\n"
      ],
      "metadata": {
        "id": "bPylMLyXikQ-"
      }
    },
    {
      "cell_type": "code",
      "source": [
        "print(df)"
      ],
      "metadata": {
        "colab": {
          "base_uri": "https://localhost:8080/"
        },
        "id": "JHj9pd9qkTvM",
        "outputId": "b7c67d4a-3ad5-4b06-f303-7276a9d1208b"
      },
      "execution_count": 20,
      "outputs": [
        {
          "output_type": "stream",
          "name": "stdout",
          "text": [
            "      Name  Age           City\n",
            "0    Alice   25       New York\n",
            "1      Bob   30  San Francisco\n",
            "2  Charlie   35    Los Angeles\n"
          ]
        }
      ]
    },
    {
      "cell_type": "markdown",
      "source": [
        "### 4.2 Basic Information:\n",
        "\n"
      ],
      "metadata": {
        "id": "Kbf5absoixQc"
      }
    },
    {
      "cell_type": "code",
      "source": [
        "\n",
        "# Display the first few rows\n",
        "print(df.head())\n",
        "\n",
        "# Display basic information about the DataFrame\n",
        "print(df.info())\n"
      ],
      "metadata": {
        "colab": {
          "base_uri": "https://localhost:8080/"
        },
        "id": "vNnp1tsMkiCm",
        "outputId": "5bad5dd6-3588-46c1-e39b-3b364c534862"
      },
      "execution_count": 22,
      "outputs": [
        {
          "output_type": "stream",
          "name": "stdout",
          "text": [
            "      Name  Age           City\n",
            "0    Alice   25       New York\n",
            "1      Bob   30  San Francisco\n",
            "2  Charlie   35    Los Angeles\n",
            "<class 'pandas.core.frame.DataFrame'>\n",
            "RangeIndex: 3 entries, 0 to 2\n",
            "Data columns (total 3 columns):\n",
            " #   Column  Non-Null Count  Dtype \n",
            "---  ------  --------------  ----- \n",
            " 0   Name    3 non-null      object\n",
            " 1   Age     3 non-null      int64 \n",
            " 2   City    3 non-null      object\n",
            "dtypes: int64(1), object(2)\n",
            "memory usage: 200.0+ bytes\n",
            "None\n"
          ]
        }
      ]
    },
    {
      "cell_type": "markdown",
      "source": [
        "## 5. **Indexing and Selection:**\n",
        "\n",
        "### 5.1 Selecting Columns:\n",
        "\n",
        "\n"
      ],
      "metadata": {
        "id": "ku71C3xGjDo_"
      }
    },
    {
      "cell_type": "code",
      "source": [
        "# Selecting a single column\n",
        "print(df['Name'])\n",
        "\n",
        "# Selecting multiple columns\n",
        "print(df[['Name', 'Age']])"
      ],
      "metadata": {
        "colab": {
          "base_uri": "https://localhost:8080/"
        },
        "id": "IybmIIoVkogn",
        "outputId": "96dd6d09-4565-4a12-81d7-7903b0bc7ef7"
      },
      "execution_count": 23,
      "outputs": [
        {
          "output_type": "stream",
          "name": "stdout",
          "text": [
            "0      Alice\n",
            "1        Bob\n",
            "2    Charlie\n",
            "Name: Name, dtype: object\n",
            "      Name  Age\n",
            "0    Alice   25\n",
            "1      Bob   30\n",
            "2  Charlie   35\n"
          ]
        }
      ]
    },
    {
      "cell_type": "markdown",
      "source": [
        "### 5.2 Selecting Rows:"
      ],
      "metadata": {
        "id": "m_vEO44gjIsD"
      }
    },
    {
      "cell_type": "code",
      "source": [
        "# Selecting rows by index\n",
        "print(df.iloc[0])  # First row\n",
        "\n",
        "# Selecting rows by condition\n",
        "print(df[df['Age'] > 30])"
      ],
      "metadata": {
        "colab": {
          "base_uri": "https://localhost:8080/"
        },
        "id": "0d78JhBDksIu",
        "outputId": "ec3c9d53-8b0d-423a-dbf4-0c4f615e66b0"
      },
      "execution_count": 24,
      "outputs": [
        {
          "output_type": "stream",
          "name": "stdout",
          "text": [
            "Name       Alice\n",
            "Age           25\n",
            "City    New York\n",
            "Name: 0, dtype: object\n",
            "      Name  Age         City\n",
            "2  Charlie   35  Los Angeles\n"
          ]
        }
      ]
    },
    {
      "cell_type": "markdown",
      "source": [
        "## 6. **Manipulating DataFrames:**\n",
        "\n",
        "### 6.1 Adding Columns:\n",
        "\n",
        "\n",
        "\n"
      ],
      "metadata": {
        "id": "9KmDHIeRjMW6"
      }
    },
    {
      "cell_type": "code",
      "source": [
        "df['Salary'] = [50000, 60000, 70000]"
      ],
      "metadata": {
        "id": "cSAaHkdVk3aP"
      },
      "execution_count": 25,
      "outputs": []
    },
    {
      "cell_type": "markdown",
      "source": [
        "### 6.2 Removing Columns:\n",
        "\n",
        "\n",
        "\n"
      ],
      "metadata": {
        "id": "YrrkSzTCjPS8"
      }
    },
    {
      "cell_type": "code",
      "source": [
        "df = df.drop('City', axis=1)"
      ],
      "metadata": {
        "id": "9b2S1hK6k6Xx"
      },
      "execution_count": 26,
      "outputs": []
    },
    {
      "cell_type": "markdown",
      "source": [
        "### 6.3 Renaming Columns:\n",
        "\n",
        "\n",
        "\n"
      ],
      "metadata": {
        "id": "3sc5xiMHjTLt"
      }
    },
    {
      "cell_type": "code",
      "source": [
        "df = df.rename(columns={'Age': 'Years'})"
      ],
      "metadata": {
        "id": "E97uT_Azk9Ry"
      },
      "execution_count": 27,
      "outputs": []
    },
    {
      "cell_type": "markdown",
      "source": [
        "## 7. **Handling Missing Data:**\n",
        "\n",
        "### 7.1 Checking for Missing Values:\n",
        "\n",
        "\n",
        "\n"
      ],
      "metadata": {
        "id": "UhpfdtTwjV-4"
      }
    },
    {
      "cell_type": "code",
      "source": [
        "print(df.isnull())"
      ],
      "metadata": {
        "colab": {
          "base_uri": "https://localhost:8080/"
        },
        "id": "pNTfJmDhlBD4",
        "outputId": "0477fd5a-0e14-4afe-b355-d53e7e8b0a07"
      },
      "execution_count": 28,
      "outputs": [
        {
          "output_type": "stream",
          "name": "stdout",
          "text": [
            "    Name  Years  Salary\n",
            "0  False  False   False\n",
            "1  False  False   False\n",
            "2  False  False   False\n"
          ]
        }
      ]
    },
    {
      "cell_type": "markdown",
      "source": [
        "### 7.2 Dropping Missing Values:\n",
        "\n",
        "\n",
        "\n"
      ],
      "metadata": {
        "id": "dKCjJJYtjYyl"
      }
    },
    {
      "cell_type": "code",
      "source": [
        "df = df.dropna()"
      ],
      "metadata": {
        "id": "Zu1TZcqalEcw"
      },
      "execution_count": 29,
      "outputs": []
    },
    {
      "cell_type": "markdown",
      "source": [
        "### 7.3 Filling Missing Values:\n",
        "\n",
        "\n",
        "\n"
      ],
      "metadata": {
        "id": "FUgAFVuCjc1I"
      }
    },
    {
      "cell_type": "code",
      "source": [
        "df = df.fillna(0)"
      ],
      "metadata": {
        "id": "IVSC8t84lHx_"
      },
      "execution_count": 30,
      "outputs": []
    },
    {
      "cell_type": "markdown",
      "source": [
        "## 8. **Descriptive Statistics:**\n",
        "\n",
        "\n"
      ],
      "metadata": {
        "id": "ps0vJ9OUjgUH"
      }
    },
    {
      "cell_type": "code",
      "source": [
        "# Summary statistics\n",
        "print(df.describe())\n",
        "\n",
        "# Mean of each column\n",
        "print(df.mean())"
      ],
      "metadata": {
        "colab": {
          "base_uri": "https://localhost:8080/"
        },
        "id": "6jg3L79BlPjG",
        "outputId": "6d3a6782-8931-4ec8-8474-f1e540ecebf1"
      },
      "execution_count": 31,
      "outputs": [
        {
          "output_type": "stream",
          "name": "stdout",
          "text": [
            "       Years   Salary\n",
            "count    3.0      3.0\n",
            "mean    30.0  60000.0\n",
            "std      5.0  10000.0\n",
            "min     25.0  50000.0\n",
            "25%     27.5  55000.0\n",
            "50%     30.0  60000.0\n",
            "75%     32.5  65000.0\n",
            "max     35.0  70000.0\n",
            "Years        30.0\n",
            "Salary    60000.0\n",
            "dtype: float64\n"
          ]
        },
        {
          "output_type": "stream",
          "name": "stderr",
          "text": [
            "<ipython-input-31-4feef99ec41e>:5: FutureWarning: The default value of numeric_only in DataFrame.mean is deprecated. In a future version, it will default to False. In addition, specifying 'numeric_only=None' is deprecated. Select only valid columns or specify the value of numeric_only to silence this warning.\n",
            "  print(df.mean())\n"
          ]
        }
      ]
    },
    {
      "cell_type": "markdown",
      "source": [
        "## 9. **Grouping and Aggregation:**\n",
        "\n",
        "```python\n",
        "# Group by 'City' and calculate the average age in each city\n",
        "grouped_df = df.groupby('City')['Age'].mean()\n",
        "print(grouped_df)\n",
        "```\n",
        "\n"
      ],
      "metadata": {
        "id": "wBWdOB9LjkYd"
      }
    },
    {
      "cell_type": "markdown",
      "source": [
        "## 10. **Merging and Concatenating:**\n",
        "\n",
        "### 10.1 Concatenating DataFrames:\n",
        "\n",
        "\n"
      ],
      "metadata": {
        "id": "9VTHcVmgjqfk"
      }
    },
    {
      "cell_type": "code",
      "source": [
        "df1 = pd.DataFrame({'A': ['A0', 'A1'], 'B': ['B0', 'B1']})\n",
        "df2 = pd.DataFrame({'A': ['A2', 'A3'], 'B': ['B2', 'B3']})\n",
        "\n",
        "result = pd.concat([df1, df2], ignore_index=True)\n",
        "\n",
        "print(result)"
      ],
      "metadata": {
        "colab": {
          "base_uri": "https://localhost:8080/"
        },
        "id": "Hltyeun5mMR1",
        "outputId": "1397d295-84a9-44d9-b28e-de134df71ee9"
      },
      "execution_count": 36,
      "outputs": [
        {
          "output_type": "stream",
          "name": "stdout",
          "text": [
            "    A   B\n",
            "0  A0  B0\n",
            "1  A1  B1\n",
            "2  A2  B2\n",
            "3  A3  B3\n"
          ]
        }
      ]
    },
    {
      "cell_type": "markdown",
      "source": [
        "### 10.2 Merging DataFrames:\n",
        "\n",
        "\n",
        "\n"
      ],
      "metadata": {
        "id": "NblhFbCmjtzN"
      }
    },
    {
      "cell_type": "code",
      "source": [
        "df1 = pd.DataFrame({'key': ['K0', 'K1'], 'value': ['V0', 'V1']})\n",
        "df2 = pd.DataFrame({'key': ['K0', 'K1'], 'value': ['V2', 'V3']})\n",
        "\n",
        "result = pd.merge(df1, df2, on='key')\n",
        "\n",
        "print(result)"
      ],
      "metadata": {
        "colab": {
          "base_uri": "https://localhost:8080/"
        },
        "id": "aY_is-fImkk0",
        "outputId": "fef43467-4f82-4b18-cecc-805e81c6e19d"
      },
      "execution_count": 37,
      "outputs": [
        {
          "output_type": "stream",
          "name": "stdout",
          "text": [
            "  key value_x value_y\n",
            "0  K0      V0      V2\n",
            "1  K1      V1      V3\n"
          ]
        }
      ]
    },
    {
      "cell_type": "markdown",
      "source": [
        "## 11. **Exporting Data:**\n",
        "\n",
        "```python\n",
        "df.to_csv('output.csv', index=False)\n",
        "```"
      ],
      "metadata": {
        "id": "AfcUqjETjxHg"
      }
    }
  ]
}