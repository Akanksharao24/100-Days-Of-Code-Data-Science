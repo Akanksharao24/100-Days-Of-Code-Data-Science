{
  "cells": [
    {
      "cell_type": "markdown",
      "metadata": {
        "id": "3lGD637mzu3X"
      },
      "source": [
        "# -------------- **Data Structures** --------------\n",
        "\n",
        "                             \"21 January 2024\"   - Akanksha              "
      ]
    },
    {
      "cell_type": "markdown",
      "metadata": {
        "id": "SZ7L6L0btTJ8"
      },
      "source": [
        "\n",
        "## File Handling:\n",
        "\n",
        "1. **Opening a File:**\n",
        "   - `open()`: To open a file, specifying the file name and mode (read, write, append, etc.).\n",
        "\n",
        "2. **Modes of File Opening:**\n",
        "   - `r`: Read\n",
        "   - `w`: Write (creates a new file or truncates an existing file)\n",
        "   - `a`: Append (opens a file for appending data)\n",
        "   - `b`: Binary mode\n",
        "   - `+`: Read and Write mode\n",
        "\n",
        "3. **Reading from a File:**\n",
        "   - `read()`: Reads the entire file.\n",
        "   - `readline()`: Reads a single line from the file.\n",
        "   - `readlines()`: Reads all lines in the file and returns a list.\n",
        "\n",
        "4. **Writing to a File:**\n",
        "   - `write()`: Writes a string to the file.\n",
        "   - `writelines()`: Writes a list of lines to the file.\n",
        "\n",
        "5. **Closing a File:**\n",
        "   - `close()`: Closes the file, releasing resources.\n",
        "\n",
        "6. **Context Managers (`with` statement):**\n",
        "   - Ensures proper acquisition and release of resources (automatically closes the file).\n",
        "\n",
        "7. **Working with File Paths:**\n",
        "   - `os.path.join()`: Joining paths.\n",
        "   - `os.path.exists()`: Checking if a file exists.\n",
        "\n",
        "### Exception Handling:\n",
        "\n",
        "1. **Try-Except Blocks:**\n",
        "   - `try`: Contains the code that might raise an exception.\n",
        "   - `except`: Contains the code to be executed if an exception is raised.\n",
        "\n",
        "2. **Handling Specific Exceptions:**\n",
        "   - `except ExceptionType as e`: Handles a specific type of exception.\n",
        "   - Common exceptions include `FileNotFoundError`, `TypeError`, `ValueError`, etc.\n",
        "\n",
        "3. **Multiple Except Blocks:**\n",
        "   - Handling multiple exceptions with different `except` blocks.\n",
        "\n",
        "4. **Else Block:**\n",
        "   - `else`: Code to be executed if no exceptions are raised.\n",
        "\n",
        "5. **Finally Block:**\n",
        "   - `finally`: Code that is always executed, whether an exception is raised or not.\n",
        "\n",
        "6. **Raising Exceptions:**\n",
        "   - `raise`: Manually raise an exception.\n",
        "\n",
        "7. **Custom Exceptions:**\n",
        "   - Defining and using custom exceptions.\n",
        "\n",
        "8. **Exception Hierarchy:**\n",
        "   - Understanding the hierarchy of exceptions (e.g., `BaseException`, `Exception`, specific exception classes).\n",
        "\n"
      ]
    },
    {
      "cell_type": "code",
      "execution_count": 3,
      "metadata": {
        "colab": {
          "base_uri": "https://localhost:8080/"
        },
        "id": "WHjASR21thBY",
        "outputId": "375eb64b-301c-4c70-9cd3-f900522091dd"
      },
      "outputs": [
        {
          "name": "stdout",
          "output_type": "stream",
          "text": [
            "File Content:\n",
            "Interesting Fact \n",
            "\n",
            "One of the most fascinating episodes in Indian history is the Maurya Empire, which flourished from 322 to 185 BCE. At its zenith, under the rule of the legendary Chandragupta Maurya and his grandson Ashoka the Great, the Maurya Empire spanned almost the entire Indian subcontinent.\n",
            "\n",
            "Chandragupta Maurya's rise to power is shrouded in intrigue and strategic brilliance. According to historical accounts, he sought the guidance of Chanakya, a shrewd and astute political strategist. Together, they orchestrated a series of daring maneuvers that eventually led to the overthrow of the powerful Nanda dynasty, establishing the Maurya Empire in its wake.\n",
            "\n",
            "However, it was Ashoka the Great who truly left an indelible mark on Indian history. Initially, Ashoka was known for his military conquests, expanding the empire through warfare. The pivotal moment, however, came after the brutal Battle of Kalinga, where the extent of human suffering deeply affected Ashoka. Driven by remorse and a newfound commitment to non-violence, he embraced Buddhism and adopted policies promoting peace, tolerance, and welfare for his subjects.\n",
            "\n",
            "Ashoka's rock edicts, inscribed on pillars across the empire, stand as remarkable historical artifacts. They not only provide insight into the governance of the Maurya Empire but also showcase Ashoka's dedication to moral principles. His efforts to spread Buddhism, not only within India but also beyond its borders, played a crucial role in the global dissemination of the religion.\n",
            "\n",
            "The Maurya Empire's tale is one of political intrigue, military conquests, and a transformative ruler who, after witnessing the horrors of war, chose a path of compassion and enlightenment. The legacy of the Mauryas continues to resonate in India's cultural and historical fabric, illustrating the dynamic nature of the subcontinent's rich past.\n",
            "Error: Unable to convert content to an integer. invalid literal for int() with base 10: \"Interesting Fact \\n\\nOne of the most fascinating episodes in Indian history is the Maurya Empire, which flourished from 322 to 185 BCE. At its zenith, under the rule of the legendary Chandragupta Mau\n",
            "Finally block always executed, whether there is an exception or not.\n"
          ]
        }
      ],
      "source": [
        "import os\n",
        "\n",
        "# Function to read and process a file\n",
        "def process_file(file_path):\n",
        "    try:\n",
        "        with open(file_path, 'r') as file:\n",
        "            # Read the content of the file\n",
        "            content = file.read()\n",
        "\n",
        "            # Process the content (in this example, we'll just print it)\n",
        "            print(\"File Content:\")\n",
        "            print(content)\n",
        "\n",
        "            # Simulate an operation that might raise a ValueError\n",
        "            processed_data = int(content)\n",
        "\n",
        "            # Simulate writing to a new file\n",
        "            new_file_path = \"output.txt\"\n",
        "            with open(new_file_path, 'w') as new_file:\n",
        "                new_file.write(f\"Processed Data: {processed_data}\")\n",
        "\n",
        "    except FileNotFoundError:\n",
        "        print(f\"Error: The file '{file_path}' was not found.\")\n",
        "\n",
        "    except ValueError as ve:\n",
        "        print(f\"Error: Unable to convert content to an integer. {ve}\")\n",
        "\n",
        "    except Exception as e:\n",
        "        print(f\"An unexpected error occurred: {e}\")\n",
        "\n",
        "    else:\n",
        "        print(\"File processing successful.\")\n",
        "\n",
        "    finally:\n",
        "        print(\"Finally block always executed, whether there is an exception or not.\")\n",
        "\n",
        "# Example usage\n",
        "file_path = \"/content/Interesting Fact .txt\"\n",
        "\n",
        "# Create an example file if it doesn't exist\n",
        "if not os.path.exists(file_path):\n",
        "    with open(file_path, 'w') as file:\n",
        "        file.write(\"12345\")\n",
        "\n",
        "# Process the file\n",
        "process_file(file_path)\n"
      ]
    }
  ],
  "metadata": {
    "colab": {
      "provenance": []
    },
    "kernelspec": {
      "display_name": "Python 3",
      "name": "python3"
    },
    "language_info": {
      "name": "python"
    }
  },
  "nbformat": 4,
  "nbformat_minor": 0
}
