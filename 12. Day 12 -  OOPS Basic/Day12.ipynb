{
  "cells": [
    {
      "cell_type": "markdown",
      "metadata": {
        "id": "IFxrSAvN0FXn"
      },
      "source": [
        "# -------------- **Object Oriented Programming OOPS** --------------\n",
        "\n",
        "                             \"24 January 2024\"   - Akanksha              "
      ]
    },
    {
      "cell_type": "markdown",
      "metadata": {
        "id": "q_i0pt2T5GG8"
      },
      "source": [
        "## Inheritance\n",
        "Inheritance is a mechanism that allows a new class (subclass or derived class) to inherit properties and behaviors from an existing class (base class or superclass). It promotes code reuse and the creation of a hierarchy of classes.\n",
        "\n",
        "\n"
      ]
    },
    {
      "cell_type": "code",
      "execution_count": 11,
      "metadata": {
        "id": "6hKZosQW6JQ3"
      },
      "outputs": [],
      "source": [
        "class Animal:\n",
        "    def speak(self):\n",
        "        pass\n",
        "\n",
        "class Dog(Animal):\n",
        "    def speak(self):\n",
        "        return \"Woof!\"\n",
        "\n",
        "class Cat(Animal):\n",
        "    def speak(self):\n",
        "        return \"Meow!\""
      ]
    },
    {
      "cell_type": "markdown",
      "metadata": {
        "id": "tejCKZyc5Itu"
      },
      "source": [
        "## Polymorphism\n",
        "Polymorphism allows objects of different classes to be treated as objects of a common base class. It enables a single interface to represent different types of objects. In Python, polymorphism is often achieved through method overloading and method overriding.\n",
        "\n",
        "\n",
        "\n",
        " For more information and examples, refer to the official Python documentation on [Object-Oriented Programming](https://docs.python.org/3/tutorial/classes.html)."
      ]
    },
    {
      "cell_type": "code",
      "execution_count": 12,
      "metadata": {
        "id": "SIWKMa1B6QET"
      },
      "outputs": [],
      "source": [
        "class Calculator:\n",
        "    def add(self, a, b):\n",
        "        return a + b\n",
        "\n",
        "# Polymorphic usage\n",
        "calc = Calculator()\n",
        "result = calc.add(5, 3)  # Using the same method name for different types"
      ]
    }
  ],
  "metadata": {
    "colab": {
      "provenance": []
    },
    "kernelspec": {
      "display_name": "Python 3",
      "name": "python3"
    },
    "language_info": {
      "name": "python"
    }
  },
  "nbformat": 4,
  "nbformat_minor": 0
}
